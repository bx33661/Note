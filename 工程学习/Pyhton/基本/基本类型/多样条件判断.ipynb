{
 "cells": [
  {
   "cell_type": "markdown",
   "metadata": {},
   "source": [
    "### 多种条件判断语句"
   ]
  },
  {
   "cell_type": "markdown",
   "metadata": {},
   "source": [
    "`is`和`is not`的使用："
   ]
  },
  {
   "cell_type": "code",
   "execution_count": 5,
   "metadata": {},
   "outputs": [
    {
     "name": "stdout",
     "output_type": "stream",
     "text": [
      "a的原始值： [1, 2, 3]\n",
      "b的原始值： [1, 2, 3]\n",
      "c的原始值： [1, 2, 4]\n",
      "1. 判断a和b\n",
      "a和b相等，一样\n",
      "2. 判断a和c\n",
      "a和c不相等，不一样\n"
     ]
    }
   ],
   "source": [
    "a = [1,2,3]\n",
    "b = a\n",
    "c = [1,2,4]\n",
    "# 打印原始值\n",
    "print(f\"a的原始值： {a}\")\n",
    "print(f\"b的原始值： {b}\")\n",
    "print(f\"c的原始值： {c}\")\n",
    "print(\"1. 判断a和b\")\n",
    "\n",
    "if a is b:\n",
    "    print(\"a和b相等，一样\")\n",
    "else:\n",
    "    print(\"a和b不相等，不一样\")\n",
    "\n",
    "print(\"2. 判断a和c\")\n",
    "print(\"a和c相等，一样\" if a is c else \"a和c不相等，不一样\")\n"
   ]
  },
  {
   "cell_type": "markdown",
   "metadata": {},
   "source": [
    "使用`match-case`进行模式匹配（3.10+）"
   ]
  },
  {
   "cell_type": "code",
   "execution_count": 6,
   "metadata": {},
   "outputs": [
    {
     "name": "stdout",
     "output_type": "stream",
     "text": [
      "请求成功\n"
     ]
    }
   ],
   "source": [
    "status_code = 200\n",
    "match status_code:\n",
    "    case 200:\n",
    "        print(\"请求成功\")\n",
    "    case 404:\n",
    "        print(\"未找到页面\")\n",
    "    case _:\n",
    "        print(\"其他错误\")"
   ]
  },
  {
   "cell_type": "markdown",
   "metadata": {},
   "source": [
    "三元运算符---`if`表达式"
   ]
  },
  {
   "cell_type": "code",
   "execution_count": 7,
   "metadata": {},
   "outputs": [
    {
     "name": "stdout",
     "output_type": "stream",
     "text": [
      "x 是正数\n"
     ]
    }
   ],
   "source": [
    "x = 5\n",
    "result = \"x 是正数\" if x > 0 else \"x 不是正数\"\n",
    "print(result)"
   ]
  },
  {
   "cell_type": "markdown",
   "metadata": {},
   "source": [
    "`all` 和 `any` 使用\n",
    "- `all`所有元素都满足才返回True，其他都返回False\n",
    "- `any`只要有一个元素满足就返回True，全部不满足才返回False"
   ]
  },
  {
   "cell_type": "code",
   "execution_count": 8,
   "metadata": {},
   "outputs": [
    {
     "name": "stdout",
     "output_type": "stream",
     "text": [
      "所有元素都大于 0\n",
      "至少有一个元素大于 4\n"
     ]
    }
   ],
   "source": [
    "my_list = [1, 2, 3, 4, 5]\n",
    "\n",
    "# 所有元素都大于 0\n",
    "if all(x > 0 for x in my_list):\n",
    "    print(\"所有元素都大于 0\")\n",
    "\n",
    "# 至少有一个元素大于 4\n",
    "if any(x > 4 for x in my_list):\n",
    "    print(\"至少有一个元素大于 4\")"
   ]
  }
 ],
 "metadata": {
  "kernelspec": {
   "display_name": "Python 3",
   "language": "python",
   "name": "python3"
  },
  "language_info": {
   "codemirror_mode": {
    "name": "ipython",
    "version": 3
   },
   "file_extension": ".py",
   "mimetype": "text/x-python",
   "name": "python",
   "nbconvert_exporter": "python",
   "pygments_lexer": "ipython3",
   "version": "3.11.4"
  }
 },
 "nbformat": 4,
 "nbformat_minor": 2
}
