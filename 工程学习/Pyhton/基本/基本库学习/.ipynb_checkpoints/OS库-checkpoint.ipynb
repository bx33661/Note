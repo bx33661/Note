{
 "cells": [
  {
   "cell_type": "markdown",
   "metadata": {},
   "source": [
    "`_` 在for循环中的使用"
   ]
  },
  {
   "cell_type": "code",
   "execution_count": 1,
   "metadata": {},
   "outputs": [
    {
     "name": "stdout",
     "output_type": "stream",
     "text": [
      "demo\n",
      "demo\n",
      "demo\n",
      "demo\n",
      "demo\n"
     ]
    }
   ],
   "source": [
    "for _ in range(5):\n",
    "    print(\"demo\")"
   ]
  },
  {
   "cell_type": "code",
   "execution_count": 1,
   "metadata": {},
   "outputs": [],
   "source": [
    "import os"
   ]
  },
  {
   "cell_type": "markdown",
   "metadata": {},
   "source": [
    "### 文件和目录操作"
   ]
  },
  {
   "cell_type": "markdown",
   "metadata": {},
   "source": [
    "列出指定目录下的文件和子目录"
   ]
  },
  {
   "cell_type": "code",
   "execution_count": 2,
   "metadata": {},
   "outputs": [
    {
     "name": "stdout",
     "output_type": "stream",
     "text": [
      "['.ipynb_checkpoints', 'enumerta()函数.md', 'learn.ipynb', 'macth-case语句.md', 'OOP', 'requirement.txt.md', 'sys和os库.md', 'zip语法.md', '基本类型', '迭代器', '高级操作']\n"
     ]
    }
   ],
   "source": [
    "dirs = os.listdir(\".\")\n",
    "print(dirs)"
   ]
  },
  {
   "cell_type": "code",
   "execution_count": 3,
   "metadata": {},
   "outputs": [
    {
     "name": "stdout",
     "output_type": "stream",
     "text": [
      "dir1\\dir2\\file.txt\n"
     ]
    }
   ],
   "source": [
    "path = os.path.join('dir1', 'dir2', 'file.txt')\n",
    "print(path)  # 输出: dir1/dir2/file.txt"
   ]
  },
  {
   "cell_type": "markdown",
   "metadata": {},
   "source": [
    "遍历递归文件tree"
   ]
  },
  {
   "cell_type": "code",
   "execution_count": 4,
   "metadata": {},
   "outputs": [
    {
     "name": "stdout",
     "output_type": "stream",
     "text": [
      "Root: .\n",
      "Dirs: ['.ipynb_checkpoints', 'OOP', '基本类型', '迭代器', '高级操作']\n",
      "Files: ['enumerta()函数.md', 'learn.ipynb', 'macth-case语句.md', 'requirement.txt.md', 'sys和os库.md', 'zip语法.md']\n",
      "Root: .\\.ipynb_checkpoints\n",
      "Dirs: []\n",
      "Files: []\n",
      "Root: .\\OOP\n",
      "Dirs: []\n",
      "Files: ['oop学习与分析.ipynb', 'OOP学习与分析2.ipynb']\n",
      "Root: .\\基本类型\n",
      "Dirs: []\n",
      "Files: ['enumerate.ipynb', 'zip操作.ipynb', '元组tuple.ipynb', '多样条件判断.ipynb', '字典.ipynb', '断言语句.ipynb', '集合.ipynb']\n",
      "Root: .\\迭代器\n",
      "Dirs: []\n",
      "Files: ['类迭代.py', '高级程序设计.ipynb']\n",
      "Root: .\\高级操作\n",
      "Dirs: []\n",
      "Files: ['lambda.ipynb', '函数装饰器.ipynb']\n"
     ]
    }
   ],
   "source": [
    "\n",
    "for root, dirs, files in os.walk('.'):\n",
    "    print(f\"Root: {root}\")\n",
    "    print(f\"Dirs: {dirs}\")\n",
    "    print(f\"Files: {files}\")"
   ]
  },
  {
   "cell_type": "markdown",
   "metadata": {},
   "source": [
    "### 环境变量"
   ]
  },
  {
   "cell_type": "markdown",
   "metadata": {},
   "source": [
    "获取环境变量字典"
   ]
  },
  {
   "cell_type": "code",
   "execution_count": 2,
   "metadata": {},
   "outputs": [
    {
     "name": "stdout",
     "output_type": "stream",
     "text": [
      "ALLUSERSPROFILE\n",
      "APPDATA\n",
      "APPLICATIONINSIGHTS_CONFIGURATION_CONTENT\n",
      "APPLICATION_INSIGHTS_NO_DIAGNOSTIC_CHANNEL\n",
      "CATALINA_HOME\n",
      "CHROME_CRASHPAD_PIPE_NAME\n",
      "CLION\n",
      "COMMONPROGRAMFILES\n",
      "COMMONPROGRAMFILES(X86)\n",
      "COMMONPROGRAMW6432\n",
      "COMPUTERNAME\n",
      "COMSPEC\n",
      "CUDA_PATH\n",
      "CUDA_PATH_V12_0\n",
      "CUDA_PATH_V12_5\n",
      "DEBUG\n",
      "DRIVERDATA\n",
      "ELECTRON_NO_ATTACH_CONSOLE\n",
      "ELECTRON_RUN_AS_NODE\n",
      "GOLAND\n",
      "GOPATH\n",
      "HOMEDRIVE\n",
      "HOMEPATH\n",
      "IGCCSVC_DB\n",
      "INTELLIJ IDEA\n",
      "JAVA_HOME\n",
      "JPY_INTERRUPT_EVENT\n",
      "LOCALAPPDATA\n",
      "LOGONSERVER\n",
      "MAVEN_HOME\n",
      "NUMBER_OF_PROCESSORS\n",
      "ONEDRIVE\n",
      "ONEDRIVECONSUMER\n",
      "OPENSSL_IA32CAP\n",
      "ORIGINAL_XDG_CURRENT_DESKTOP\n",
      "OS\n",
      "PATH\n",
      "PATHEXT\n",
      "PHP\n",
      "POSH_INSTALLER\n",
      "POSH_THEMES_PATH\n",
      "PROCESSOR_ARCHITECTURE\n",
      "PROCESSOR_IDENTIFIER\n",
      "PROCESSOR_LEVEL\n",
      "PROCESSOR_REVISION\n",
      "PROGRAMDATA\n",
      "PROGRAMFILES\n",
      "PROGRAMFILES(X86)\n",
      "PROGRAMW6432\n",
      "PROMPT\n",
      "PSMODULEPATH\n",
      "PUBLIC\n",
      "PYCHARM\n",
      "PYDEVD_IPYTHON_COMPATIBLE_DEBUGGING\n",
      "PYTHONIOENCODING\n",
      "PYTHONUNBUFFERED\n",
      "PYTHON_FROZEN_MODULES\n",
      "SESSIONNAME\n",
      "SYSTEMDRIVE\n",
      "SYSTEMROOT\n",
      "TEMP\n",
      "TMP\n",
      "USERDOMAIN\n",
      "USERDOMAIN_ROAMINGPROFILE\n",
      "USERNAME\n",
      "USERPROFILE\n",
      "VSCODE_AMD_ENTRYPOINT\n",
      "VSCODE_CLI\n",
      "VSCODE_CODE_CACHE_PATH\n",
      "VSCODE_CRASH_REPORTER_PROCESS_TYPE\n",
      "VSCODE_CWD\n",
      "VSCODE_DOTNET_INSTALL_TOOL_ORIGINAL_HOME\n",
      "VSCODE_HANDLES_UNCAUGHT_ERRORS\n",
      "VSCODE_IPC_HOOK\n",
      "VSCODE_L10N_BUNDLE_LOCATION\n",
      "VSCODE_NLS_CONFIG\n",
      "VSCODE_PID\n",
      "WINDIR\n",
      "WSLENV\n",
      "WT_PROFILE_ID\n",
      "WT_SESSION\n",
      "YAKIT_HOME\n",
      "ZES_ENABLE_SYSMAN\n",
      "PYDEVD_USE_FRAME_EVAL\n",
      "TERM\n",
      "CLICOLOR\n",
      "FORCE_COLOR\n",
      "CLICOLOR_FORCE\n",
      "PAGER\n",
      "GIT_PAGER\n",
      "MPLBACKEND\n"
     ]
    }
   ],
   "source": [
    "env = os.environ\n",
    "for i in env:\n",
    "    print(i)"
   ]
  },
  {
   "cell_type": "markdown",
   "metadata": {},
   "source": [
    "获取指定的环境变量"
   ]
  },
  {
   "cell_type": "code",
   "execution_count": 5,
   "metadata": {},
   "outputs": [
    {
     "name": "stdout",
     "output_type": "stream",
     "text": [
      "GOPATH_env = C:\\Users\\lenovo\\go\n"
     ]
    }
   ],
   "source": [
    "go_path = os.getenv('GOPATH')\n",
    "print(f\"GOPATH_env = {go_path}\")"
   ]
  },
  {
   "cell_type": "markdown",
   "metadata": {},
   "source": [
    "### 系统命令和进程管理"
   ]
  },
  {
   "cell_type": "markdown",
   "metadata": {},
   "source": [
    "os.system 的返回值\n",
    "os.system 函数用于执行系统命令并返回该命令的退出码。例如：\n",
    "\n",
    "```python\n",
    "import os\n",
    "```\n",
    "执行一个命令\n",
    "```python\n",
    "return_code = os.system(\"ls\")\n",
    "```\n",
    "打印返回值\n",
    "```python\n",
    "print(f\"Return code: {return_code}\")\n",
    "```\n",
    "返回值为 0：表示命令执行成功。\n",
    "返回值非 0：表示命令执行失败，具体的非零值通常表示不同的错误类型。例如，1 可能表示一般错误，127 可能表示命令未找到。"
   ]
  },
  {
   "cell_type": "code",
   "execution_count": 5,
   "metadata": {},
   "outputs": [
    {
     "data": {
      "text/plain": [
       "0"
      ]
     },
     "execution_count": 5,
     "metadata": {},
     "output_type": "execute_result"
    }
   ],
   "source": [
    "#调用起系统的计算器\n",
    "os.system(\"C:\\\\windows\\system32\\calc.exe\")"
   ]
  },
  {
   "cell_type": "code",
   "execution_count": null,
   "metadata": {},
   "outputs": [],
   "source": [
    "os.system(\"C:\\\\windows\\system32\\cmd.exe\")"
   ]
  },
  {
   "cell_type": "code",
   "execution_count": 6,
   "metadata": {},
   "outputs": [
    {
     "data": {
      "text/plain": [
       "0"
      ]
     },
     "execution_count": 6,
     "metadata": {},
     "output_type": "execute_result"
    }
   ],
   "source": [
    "os.system('ping www.bx33661.com')"
   ]
  },
  {
   "cell_type": "markdown",
   "metadata": {},
   "source": [
    "### 获取信息"
   ]
  },
  {
   "cell_type": "code",
   "execution_count": 3,
   "metadata": {},
   "outputs": [
    {
     "data": {
      "text/plain": [
       "'lenovo'"
      ]
     },
     "execution_count": 3,
     "metadata": {},
     "output_type": "execute_result"
    }
   ],
   "source": [
    "#获取用户名\n",
    "os.getlogin()"
   ]
  },
  {
   "cell_type": "code",
   "execution_count": 3,
   "metadata": {},
   "outputs": [
    {
     "data": {
      "text/plain": [
       "'e:\\\\gitproject\\\\Note\\\\工程学习\\\\Pyhton\\\\基本'"
      ]
     },
     "execution_count": 3,
     "metadata": {},
     "output_type": "execute_result"
    }
   ],
   "source": [
    "os.getcwd()\n",
    "#获取当前路径"
   ]
  },
  {
   "cell_type": "code",
   "execution_count": 4,
   "metadata": {},
   "outputs": [
    {
     "data": {
      "text/plain": [
       "32"
      ]
     },
     "execution_count": 4,
     "metadata": {},
     "output_type": "execute_result"
    }
   ],
   "source": [
    "os.cpu_count()"
   ]
  },
  {
   "cell_type": "code",
   "execution_count": 6,
   "metadata": {},
   "outputs": [
    {
     "data": {
      "text/plain": [
       "b'\\xf6Q\\xee\\t\\xa8\\xa3Mt'"
      ]
     },
     "execution_count": 6,
     "metadata": {},
     "output_type": "execute_result"
    }
   ],
   "source": [
    "#获得n个字节长度的随机字符串\n",
    "os.urandom(8)"
   ]
  },
  {
   "cell_type": "code",
   "execution_count": 8,
   "metadata": {},
   "outputs": [
    {
     "name": "stdout",
     "output_type": "stream",
     "text": [
      "当前进程的 PID: 26904\n"
     ]
    }
   ],
   "source": [
    "#获取进程PID\n",
    "pid = os.getpid()\n",
    "print(f\"当前进程的 PID: {pid}\")"
   ]
  },
  {
   "cell_type": "code",
   "execution_count": 9,
   "metadata": {},
   "outputs": [
    {
     "name": "stdout",
     "output_type": "stream",
     "text": [
      "操作系统名字: nt\n"
     ]
    }
   ],
   "source": [
    "#获取操作系统名字\n",
    "os_name = os.name\n",
    "print(f\"操作系统名字: {os_name}\")"
   ]
  },
  {
   "cell_type": "code",
   "execution_count": null,
   "metadata": {},
   "outputs": [],
   "source": [
    "#更改当前工作路径\n",
    "os.chdir('/path/to/directory')"
   ]
  }
 ],
 "metadata": {
  "kernelspec": {
   "display_name": "Python 3 (ipykernel)",
   "language": "python",
   "name": "python3"
  },
  "language_info": {
   "codemirror_mode": {
    "name": "ipython",
    "version": 3
   },
   "file_extension": ".py",
   "mimetype": "text/x-python",
   "name": "python",
   "nbconvert_exporter": "python",
   "pygments_lexer": "ipython3",
   "version": "3.11.9"
  }
 },
 "nbformat": 4,
 "nbformat_minor": 2
}
