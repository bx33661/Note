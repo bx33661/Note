{
 "cells": [
  {
   "cell_type": "markdown",
   "metadata": {},
   "source": [
    "### zip操作\n",
    "`zip` 函数的主要目的是将多个可迭代对象（如列表、元组、字符串等）“压缩”成一个元组的迭代器。每个元组包含来自输入可迭代对象的对应元素。`zip` 函数在处理多个序列时非常有用，尤其是在需要同时遍历多个序列的情况下。"
   ]
  },
  {
   "cell_type": "code",
   "execution_count": 8,
   "metadata": {},
   "outputs": [
    {
     "name": "stdout",
     "output_type": "stream",
     "text": [
      "zip()的返回类型：<class 'zip'>\n",
      "[(1, 'a'), (2, 'b'), (3, 'c'), (4, 'd')]\n"
     ]
    }
   ],
   "source": [
    "l1 = [1,2,3,4]\n",
    "l2 = ['a','b','c','d']\n",
    "zip1 = zip(l1,l2)\n",
    "#zip()返回的是一个tuple的迭代器\n",
    "print(\"zip()的返回类型：{}\".format(type(zip1)))\n",
    "print(list(zip1))"
   ]
  },
  {
   "cell_type": "markdown",
   "metadata": {},
   "source": [
    "`*` ----> 解包运算符号"
   ]
  },
  {
   "cell_type": "code",
   "execution_count": 17,
   "metadata": {},
   "outputs": [
    {
     "name": "stdout",
     "output_type": "stream",
     "text": [
      "压缩内容为:[(1, 'a'), (2, 'b'), (3, 'c'), (4, 'd')]\n",
      "解包之后origan1的值：(1, 2, 3, 4)\n",
      "解包之后origan2的值：('a', 'b', 'c', 'd')\n"
     ]
    }
   ],
   "source": [
    "res = zip(l1,l2)\n",
    "#为了演示我引入一个相同的量，打印出来\n",
    "#如果直接打印的话，res这个zip类型就被消耗了\n",
    "res_copy = zip(l1,l2)\n",
    "print(\"压缩内容为:{}\".format(list(res_copy)))\n",
    "origan1,origan2 = zip(*res)\n",
    "print(\"解包之后origan1的值：{}\".format(origan1))\n",
    "print(\"解包之后origan2的值：{}\".format(origan2))"
   ]
  },
  {
   "cell_type": "markdown",
   "metadata": {},
   "source": [
    "**压缩多个包**"
   ]
  },
  {
   "cell_type": "code",
   "execution_count": 21,
   "metadata": {},
   "outputs": [
    {
     "name": "stdout",
     "output_type": "stream",
     "text": [
      "[(1, 'a', True), (2, 'b', False), (3, 'c', True)]\n"
     ]
    }
   ],
   "source": [
    "list1 = [1, 2, 3]\n",
    "list2 = ['a', 'b', 'c']\n",
    "list3 = [True, False, True]\n",
    "\n",
    "zipped = zip(list1, list2, list3)\n",
    "print(list(zipped))"
   ]
  },
  {
   "cell_type": "markdown",
   "metadata": {},
   "source": [
    "**不同长度列表压缩示例**"
   ]
  },
  {
   "cell_type": "code",
   "execution_count": 22,
   "metadata": {},
   "outputs": [
    {
     "name": "stdout",
     "output_type": "stream",
     "text": [
      "[(1, 'a'), (2, 'b')]\n"
     ]
    }
   ],
   "source": [
    "list1 = [1, 2,]\n",
    "list2 = ['a', 'b', 'c']\n",
    "z1 = zip(list1,list2)\n",
    "print(list(z1))"
   ]
  },
  {
   "cell_type": "markdown",
   "metadata": {},
   "source": [
    "#### 应用"
   ]
  },
  {
   "cell_type": "markdown",
   "metadata": {},
   "source": [
    "同时遍历多个字典"
   ]
  },
  {
   "cell_type": "code",
   "execution_count": 26,
   "metadata": {},
   "outputs": [
    {
     "name": "stdout",
     "output_type": "stream",
     "text": [
      "bx33661 --> bx33661\n",
      "dx44772 --> dx44772\n",
      "11 --> 11\n",
      "19 --> 19\n",
      "Huawei --> Huawei\n",
      "iphone --> iphone\n"
     ]
    }
   ],
   "source": [
    "dict_bx = {\"name\":\"bx33661\",\"age\":11,\"phone\":\"Huawei\"}\n",
    "dict_dx = {\"name\":\"dx44772\",\"age\":19,\"phone\":\"iphone\"}\n",
    "for (key1,value1),(key2,value2) in zip(dict_bx.items(),dict_dx.items()):\n",
    "    print(value1,\"-->\",value1)\n",
    "    print(value2,\"-->\",value2)\n",
    "\n"
   ]
  }
 ],
 "metadata": {
  "kernelspec": {
   "display_name": "Python 3",
   "language": "python",
   "name": "python3"
  },
  "language_info": {
   "codemirror_mode": {
    "name": "ipython",
    "version": 3
   },
   "file_extension": ".py",
   "mimetype": "text/x-python",
   "name": "python",
   "nbconvert_exporter": "python",
   "pygments_lexer": "ipython3",
   "version": "3.11.4"
  }
 },
 "nbformat": 4,
 "nbformat_minor": 2
}
