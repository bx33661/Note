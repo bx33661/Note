{
 "cells": [
  {
   "cell_type": "markdown",
   "metadata": {},
   "source": [
    "### time库学习"
   ]
  },
  {
   "cell_type": "code",
   "execution_count": 1,
   "metadata": {},
   "outputs": [],
   "source": [
    "import time"
   ]
  },
  {
   "cell_type": "markdown",
   "metadata": {},
   "source": [
    "`time()`\n",
    "获取当前时间戳（从世界标准时间的1970年1月1日00：00：00开始到当前这一时刻为止的总秒数），即计算机内部时间值，浮点数"
   ]
  },
  {
   "cell_type": "code",
   "execution_count": 7,
   "metadata": {},
   "outputs": [
    {
     "name": "stdout",
     "output_type": "stream",
     "text": [
      "1729571504.018974\n"
     ]
    }
   ],
   "source": [
    "print(time.time())"
   ]
  },
  {
   "cell_type": "markdown",
   "metadata": {},
   "source": [
    "`ctime()`\n",
    "获取当前时间，并返回一个以人类可读方式的字符串"
   ]
  },
  {
   "cell_type": "code",
   "execution_count": 8,
   "metadata": {},
   "outputs": [
    {
     "data": {
      "text/plain": [
       "'Tue Oct 22 12:36:18 2024'"
      ]
     },
     "execution_count": 8,
     "metadata": {},
     "output_type": "execute_result"
    }
   ],
   "source": [
    "time.ctime()"
   ]
  },
  {
   "cell_type": "markdown",
   "metadata": {},
   "source": [
    "`getime()`\n",
    "获取当前时间，并返回计算机可处理的时间格式"
   ]
  },
  {
   "cell_type": "code",
   "execution_count": 9,
   "metadata": {},
   "outputs": [
    {
     "data": {
      "text/plain": [
       "time.struct_time(tm_year=2024, tm_mon=10, tm_mday=22, tm_hour=4, tm_min=37, tm_sec=20, tm_wday=1, tm_yday=296, tm_isdst=0)"
      ]
     },
     "execution_count": 9,
     "metadata": {},
     "output_type": "execute_result"
    }
   ],
   "source": [
    "time.gmtime()"
   ]
  },
  {
   "cell_type": "markdown",
   "metadata": {},
   "source": [
    "### 时间格式化\n",
    "```python\n",
    "time.strftime(\"%Y-%m-%d %H:%M:%S\",t)\n",
    "time.strptime(timeStr,\"%Y-%m-%d %H:%M:%S\")\n",
    "```\n",
    "| 格式化字符串 | 日期/时间说明 | 取值范围 |\n",
    "| --- | --- | --- |\n",
    "| `%Y` | 年份 | 0000~9999 |\n",
    "| `%m` | 月份（数字） | 01~12 |\n",
    "| `%B` | 月份（英文全称） | January~December |\n",
    "| `%b` | 月份（英文缩写） | Jan~Dec |\n",
    "| `%d` | 日期 | 01~31 |\n",
    "| `%A` | 星期（英文全称） | Monday~Sunday |\n",
    "| `%a` | 星期（英文缩写） | Mon~Sun |\n",
    "| `%H` | 小时（24小时制） | 00~23 |\n",
    "| `%I` | 小时（12小时制） | 01~12 |\n",
    "| `%p` | 上/下午 | AM，PM |\n",
    "| `%M` | 分钟 | 00~59 |\n",
    "| `%S` | 秒 | 00~59 |\n"
   ]
  },
  {
   "cell_type": "code",
   "execution_count": 10,
   "metadata": {},
   "outputs": [
    {
     "data": {
      "text/plain": [
       "'2024-10-22 04:41:43'"
      ]
     },
     "execution_count": 10,
     "metadata": {},
     "output_type": "execute_result"
    }
   ],
   "source": [
    "t = time.gmtime()\n",
    "time.strftime(\"%Y-%m-%d %H:%M:%S\",t)"
   ]
  },
  {
   "cell_type": "code",
   "execution_count": 11,
   "metadata": {},
   "outputs": [
    {
     "data": {
      "text/plain": [
       "time.struct_time(tm_year=2024, tm_mon=10, tm_mday=22, tm_hour=4, tm_min=41, tm_sec=43, tm_wday=1, tm_yday=296, tm_isdst=-1)"
      ]
     },
     "execution_count": 11,
     "metadata": {},
     "output_type": "execute_result"
    }
   ],
   "source": [
    "timeStr='2024-10-22 04:41:43'\n",
    "time.strptime(timeStr,\"%Y-%m-%d %H:%M:%S\")"
   ]
  },
  {
   "cell_type": "markdown",
   "metadata": {},
   "source": [
    "### 程序计时\n",
    "- time.perf_counter()\n",
    "返回一个CPU级别的精确时间计数值，单位为秒\n",
    "- sleep()\n",
    "休眠时间"
   ]
  },
  {
   "cell_type": "code",
   "execution_count": 13,
   "metadata": {},
   "outputs": [
    {
     "name": "stdout",
     "output_type": "stream",
     "text": [
      "5.000304599999936\n"
     ]
    }
   ],
   "source": [
    "s_time = time.perf_counter()\n",
    "time.sleep(5)\n",
    "e_time = time.perf_counter()\n",
    "print(e_time-s_time)"
   ]
  },
  {
   "cell_type": "code",
   "execution_count": 16,
   "metadata": {},
   "outputs": [
    {
     "name": "stdout",
     "output_type": "stream",
     "text": [
      "开始时间: Tue Oct 22 12:48:16 2024\n",
      "结束时间: Tue Oct 22 12:48:21 2024\n"
     ]
    }
   ],
   "source": [
    "print(\"开始时间:\", time.ctime())\n",
    "time.sleep(5)  # 暂停 5 秒\n",
    "print(\"结束时间:\", time.ctime())"
   ]
  }
 ],
 "metadata": {
  "kernelspec": {
   "display_name": "Python 3",
   "language": "python",
   "name": "python3"
  },
  "language_info": {
   "codemirror_mode": {
    "name": "ipython",
    "version": 3
   },
   "file_extension": ".py",
   "mimetype": "text/x-python",
   "name": "python",
   "nbconvert_exporter": "python",
   "pygments_lexer": "ipython3",
   "version": "3.11.4"
  }
 },
 "nbformat": 4,
 "nbformat_minor": 2
}
