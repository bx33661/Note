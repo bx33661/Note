{
 "cells": [
  {
   "cell_type": "markdown",
   "metadata": {},
   "source": [
    "- 继承\n",
    "第二部分LET'S GO!!\n",
    "下面创一个父类"
   ]
  },
  {
   "cell_type": "code",
   "execution_count": 1,
   "metadata": {},
   "outputs": [],
   "source": [
    "class Fruit:\n",
    "    def __init__(self,name,color) -> None:\n",
    "        self.name = name\n",
    "        self.color = color\n",
    "# 定义一个方法\n",
    "    def show(self):\n",
    "        print(f\"This fruit is {self.color} {self.name}\")"
   ]
  },
  {
   "cell_type": "markdown",
   "metadata": {},
   "source": [
    "开始创建一个子类，继承父类\n",
    "使用`super()` \n",
    "> 通过使用super()函数，您不必使用父元素的名称，它会自动从其父元素继承方法和属性"
   ]
  },
  {
   "cell_type": "code",
   "execution_count": 2,
   "metadata": {},
   "outputs": [],
   "source": [
    "class Apple(Fruit):\n",
    "    def __init__(self,name,color,weight) -> None:\n",
    "        super().__init__(name,color)\n",
    "        # Fruit().__init__(name,color)\n",
    "        self.weight = weight\n",
    "    def show(self):\n",
    "        print(f\"This apple is {self.color} {self.name} and weight is {self.weight}g\")"
   ]
  },
  {
   "cell_type": "markdown",
   "metadata": {},
   "source": [
    "Python中静态方法是一种特殊的方法，它不需要实例化对象就可以调用，而是通过类名直接调用。静态方法通常用于执行一些与类相关但不需要访问实例变量或方法的操作。\n",
    "在Python中，定义一个静态方法需要使用`@staticmethod`装饰器。下面是一个简单的示例，展示了如何在Python中使用静态方法："
   ]
  },
  {
   "cell_type": "code",
   "execution_count": 1,
   "metadata": {},
   "outputs": [
    {
     "name": "stdout",
     "output_type": "stream",
     "text": [
      "小狗要跑\n"
     ]
    }
   ],
   "source": [
    "#静态方法\n",
    "class Dog(object):\n",
    "    @staticmethod\n",
    "    def run():\n",
    "        print('小狗要跑')\n",
    "Dog.run()"
   ]
  }
 ],
 "metadata": {
  "kernelspec": {
   "display_name": "Python 3",
   "language": "python",
   "name": "python3"
  },
  "language_info": {
   "codemirror_mode": {
    "name": "ipython",
    "version": 3
   },
   "file_extension": ".py",
   "mimetype": "text/x-python",
   "name": "python",
   "nbconvert_exporter": "python",
   "pygments_lexer": "ipython3",
   "version": "3.11.4"
  }
 },
 "nbformat": 4,
 "nbformat_minor": 2
}
