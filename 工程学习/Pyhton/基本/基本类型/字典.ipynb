{
 "cells": [
  {
   "cell_type": "markdown",
   "metadata": {},
   "source": [
    "### 字典操作"
   ]
  },
  {
   "cell_type": "code",
   "execution_count": 7,
   "metadata": {},
   "outputs": [
    {
     "name": "stdout",
     "output_type": "stream",
     "text": [
      "bx33661 18\n",
      "{'name': 'bx33661', 'age': 18, 'gender': '男', 'Phone': 'Iphone 33 pro max'}\n"
     ]
    }
   ],
   "source": [
    "dic1 = {\"name\":\"bx33661\",\"age\":18,\"gender\":\"男\",\"Phone\":\"Iphone 33 pro max\"}\n",
    "#通过键索引访问！\n",
    "print(dic1[\"name\"],dic1[\"age\"])\n",
    "#toString\n",
    "print(dic1)"
   ]
  },
  {
   "cell_type": "markdown",
   "metadata": {},
   "source": [
    "基本操作---*新增* 和 *修改*"
   ]
  },
  {
   "cell_type": "code",
   "execution_count": 8,
   "metadata": {},
   "outputs": [
    {
     "name": "stdout",
     "output_type": "stream",
     "text": [
      "原始内容为：  {'name': 'bx33661', 'age': 18, 'gender': '男', 'Phone': 'Iphone 33 pro max'}\n",
      "新增后内容为: {'name': 'bx33661', 'age': 18, 'gender': '男', 'Phone': 'Iphone 33 pro max', 'speak_content': '666'}\n"
     ]
    }
   ],
   "source": [
    "#新增\n",
    "print(\"原始内容为： \",dic1)\n",
    "dic1[\"speak_content\"] = \"666\"\n",
    "print(\"新增后内容为:\",dic1)"
   ]
  },
  {
   "cell_type": "code",
   "execution_count": 9,
   "metadata": {},
   "outputs": [
    {
     "name": "stdout",
     "output_type": "stream",
     "text": [
      "name键值对的原始值为： bx33661\n",
      "name键值对修改后值为： dx33661\n"
     ]
    }
   ],
   "source": [
    "#修改值\n",
    "print(\"name键值对的原始值为：\",dic1[\"name\"])\n",
    "dic1[\"name\"] = \"dx33661\"\n",
    "print(\"name键值对修改后值为：\",dic1[\"name\"])"
   ]
  },
  {
   "cell_type": "code",
   "execution_count": 11,
   "metadata": {},
   "outputs": [
    {
     "name": "stdout",
     "output_type": "stream",
     "text": [
      "{'liangdianshui': '111111', 'twowater': '222222', '两点水': '333333'}\n",
      "{'liangdianshui': '111111', '两点水': '333333'}\n",
      "{}\n"
     ]
    }
   ],
   "source": [
    "#删除操作\n",
    "dict2={'liangdianshui':'111111' ,'twowater':'222222' ,'两点水':'333333'}\n",
    "print(dict2)\n",
    "# 通过 key 值，删除对应的元素\n",
    "del dict2['twowater']\n",
    "print(dict2)\n",
    "# 删除字典中的所有元素\n",
    "dict2.clear()\n",
    "print(dict2)\n",
    "# 删除字典\n",
    "del dict2"
   ]
  },
  {
   "cell_type": "markdown",
   "metadata": {},
   "source": [
    "遍历字典键值对"
   ]
  },
  {
   "cell_type": "code",
   "execution_count": 13,
   "metadata": {},
   "outputs": [
    {
     "name": "stdout",
     "output_type": "stream",
     "text": [
      "键: a, 值: apple\n",
      "键: b, 值: banana\n",
      "键: c, 值: cherry\n"
     ]
    }
   ],
   "source": [
    "my_dict = {'a': 'apple', 'b': 'banana', 'c': 'cherry'}\n",
    "\n",
    "# 遍历字典并输出键值对\n",
    "for key, value in my_dict.items():\n",
    "    print(f\"键: {key}, 值: {value}\")"
   ]
  },
  {
   "cell_type": "markdown",
   "metadata": {},
   "source": [
    "结合`map`操作："
   ]
  },
  {
   "cell_type": "markdown",
   "metadata": {},
   "source": [
    "示例1:"
   ]
  },
  {
   "cell_type": "code",
   "execution_count": 12,
   "metadata": {},
   "outputs": [
    {
     "name": "stdout",
     "output_type": "stream",
     "text": [
      "['APPLE', 'BANANA', 'CHERRY']\n"
     ]
    }
   ],
   "source": [
    "my_dict = {'a': 'apple', 'b': 'banana', 'c': 'cherry'}\n",
    "\n",
    "def to_upper(value):\n",
    "    return value.upper()\n",
    "\n",
    "upper_values = map(to_upper, my_dict.values())\n",
    "# 将结果转换为列表\n",
    "upper_values_list = list(upper_values)\n",
    "\n",
    "print(upper_values_list)  # 输出: ['APPLE', 'BANANA', 'CHERRY']"
   ]
  },
  {
   "cell_type": "markdown",
   "metadata": {},
   "source": [
    "示例2"
   ]
  },
  {
   "cell_type": "code",
   "execution_count": 14,
   "metadata": {},
   "outputs": [
    {
     "name": "stdout",
     "output_type": "stream",
     "text": [
      "['a', 'b', 'c']\n"
     ]
    }
   ],
   "source": [
    "# 定义一个字典\n",
    "my_dict = {'A': 'apple', 'B': 'banana', 'C': 'cherry'}\n",
    "\n",
    "# 定义一个函数，将字符串转换为小写\n",
    "def to_lower(key):\n",
    "    return key.lower()\n",
    "\n",
    "# 使用 map 函数对字典的键进行操作\n",
    "lower_keys = map(to_lower, my_dict.keys())\n",
    "\n",
    "# 将结果转换为列表\n",
    "lower_keys_list = list(lower_keys)\n",
    "\n",
    "print(lower_keys_list)  # 输出: ['a', 'b', 'c']\n"
   ]
  },
  {
   "cell_type": "markdown",
   "metadata": {},
   "source": [
    "Python 字典提供了许多内置函数和方法来操作字典。以下是一些常用的字典内置函数和方法：\n",
    "\n",
    "1. **`dict.clear()`**：\n",
    "   - 清空字典中的所有项。\n",
    "   - 示例：\n",
    "     ```python\n",
    "     my_dict = {'a': 'apple', 'b': 'banana'}\n",
    "     my_dict.clear()\n",
    "     print(my_dict)  # 输出: {}\n",
    "     ```\n",
    "\n",
    "2. **`dict.copy()`**：\n",
    "   - 返回字典的浅复制。\n",
    "   - 示例：\n",
    "     ```python\n",
    "     my_dict = {'a': 'apple', 'b': 'banana'}\n",
    "     new_dict = my_dict.copy()\n",
    "     print(new_dict)  # 输出: {'a': 'apple', 'b': 'banana'}\n",
    "     ```\n",
    "\n",
    "3. **`dict.fromkeys(seq[, value])`**：\n",
    "   - 创建一个新字典，以序列 `seq` 中的元素作为键，[`value`](command:_github.copilot.openSymbolFromReferences?%5B%22%22%2C%5B%7B%22uri%22%3A%7B%22scheme%22%3A%22vscode-notebook-cell%22%2C%22authority%22%3A%22%22%2C%22path%22%3A%22%2Fe%3A%2Fgitproject%2FNote%2F%E5%B7%A5%E7%A8%8B%E5%AD%A6%E4%B9%A0%2FPyhton%2F%E5%9F%BA%E6%9C%AC%2F%E5%9F%BA%E6%9C%AC%E7%B1%BB%E5%9E%8B%2F%E5%AD%97%E5%85%B8.ipynb%22%2C%22query%22%3A%22%22%2C%22fragment%22%3A%22X14sZmlsZQ%3D%3D%22%7D%2C%22pos%22%3A%7B%22line%22%3A3%2C%22character%22%3A9%7D%7D%5D%2C%2212a02add-3e47-4483-9311-22510e02cd76%22%5D \"Go to definition\") 为所有键对应的初始值（默认为 `None`）。\n",
    "   - 示例：\n",
    "     ```python\n",
    "     keys = ['a', 'b', 'c']\n",
    "     new_dict = dict.fromkeys(keys, 'default_value')\n",
    "     print(new_dict)  # 输出: {'a': 'default_value', 'b': 'default_value', 'c': 'default_value'}\n",
    "     ```\n",
    "\n",
    "4. **`dict.get(key[, default])`**：\n",
    "   - 返回指定键的值，如果键不在字典中，则返回默认值（默认为 `None`）。\n",
    "   - 示例：\n",
    "     ```python\n",
    "     my_dict = {'a': 'apple', 'b': 'banana'}\n",
    "     print(my_dict.get('a'))  # 输出: apple\n",
    "     print(my_dict.get('c', 'not found'))  # 输出: not found\n",
    "     ```\n",
    "\n",
    "5. **`dict.items()`**：\n",
    "   - 返回一个包含字典所有键值对的视图对象。\n",
    "   - 示例：\n",
    "     ```python\n",
    "     my_dict = {'a': 'apple', 'b': 'banana'}\n",
    "     print(my_dict.items())  # 输出: dict_items([('a', 'apple'), ('b', 'banana')])\n",
    "     ```\n",
    "\n",
    "6. **`dict.keys()`**：\n",
    "   - 返回一个包含字典所有键的视图对象。\n",
    "   - 示例：\n",
    "     ```python\n",
    "     my_dict = {'a': 'apple', 'b': 'banana'}\n",
    "     print(my_dict.keys())  # 输出: dict_keys(['a', 'b'])\n",
    "     ```\n",
    "\n",
    "7. **`dict.pop(key[, default])`**：\n",
    "   - 删除字典中指定键的项，并返回该键的值。如果键不存在，则返回默认值（如果提供了默认值），否则抛出 `KeyError`。\n",
    "   - 示例：\n",
    "     ```python\n",
    "     my_dict = {'a': 'apple', 'b': 'banana'}\n",
    "     value = my_dict.pop('a')\n",
    "     print(value)  # 输出: apple\n",
    "     print(my_dict)  # 输出: {'b': 'banana'}\n",
    "     ```\n",
    "\n",
    "8. **`dict.popitem()`**：\n",
    "   - 随机删除字典中的一对键值，并以元组形式返回该键值对。如果字典为空，则抛出 `KeyError`。\n",
    "   - 示例：\n",
    "     ```python\n",
    "     my_dict = {'a': 'apple', 'b': 'banana'}\n",
    "     item = my_dict.popitem()\n",
    "     print(item)  # 输出: ('a', 'apple') 或 ('b', 'banana')\n",
    "     print(my_dict)  # 输出: 剩余的键值对\n",
    "     ```\n",
    "\n",
    "9. **`dict.setdefault(key[, default])`**：\n",
    "   - 如果键存在于字典中，则返回该键的值；如果键不存在，则将该键和默认值添加到字典中，并返回默认值。\n",
    "   - 示例：\n",
    "     ```python\n",
    "     my_dict = {'a': 'apple'}\n",
    "     value = my_dict.setdefault('b', 'banana')\n",
    "     print(value)  # 输出: banana\n",
    "     print(my_dict)  # 输出: {'a': 'apple', 'b': 'banana'}\n",
    "     ```\n",
    "\n",
    "10. **`dict.update([other])`**：\n",
    "    - 使用另一个字典或可迭代对象更新当前字典。\n",
    "    - 示例：\n",
    "      ```python\n",
    "      my_dict = {'a': 'apple'}\n",
    "      my_dict.update({'b': 'banana', 'c': 'cherry'})\n",
    "      print(my_dict)  # 输出: {'a': 'apple', 'b': 'banana', 'c': 'cherry'}\n",
    "      ```\n",
    "\n",
    "11. **`dict.values()`**：\n",
    "    - 返回一个包含字典所有值的视图对象。\n",
    "    - 示例：\n",
    "      ```python\n",
    "      my_dict = {'a': 'apple', 'b': 'banana'}\n",
    "      print(my_dict.values())  # 输出: dict_values(['apple', 'banana'])\n",
    "      ```\n",
    "\n",
    "这些内置函数和方法使得操作字典变得非常方便和高效。"
   ]
  }
 ],
 "metadata": {
  "kernelspec": {
   "display_name": "Python 3",
   "language": "python",
   "name": "python3"
  },
  "language_info": {
   "codemirror_mode": {
    "name": "ipython",
    "version": 3
   },
   "file_extension": ".py",
   "mimetype": "text/x-python",
   "name": "python",
   "nbconvert_exporter": "python",
   "pygments_lexer": "ipython3",
   "version": "3.11.4"
  }
 },
 "nbformat": 4,
 "nbformat_minor": 2
}
