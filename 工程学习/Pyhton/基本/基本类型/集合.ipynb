{
 "cells": [
  {
   "cell_type": "markdown",
   "metadata": {},
   "source": [
    "### 集合学习\n",
    "特点：\n",
    "无序性：集合中的元素没有固定的顺序。\n",
    "唯一性：集合中的元素是唯一的，不能重复。\n",
    "可变性：集合是可变的，可以添加和删除元素。"
   ]
  },
  {
   "cell_type": "code",
   "execution_count": 4,
   "metadata": {},
   "outputs": [
    {
     "name": "stdout",
     "output_type": "stream",
     "text": [
      "<class 'set'>\n",
      "{1, 2, 3, 4, 5, 6}\n"
     ]
    }
   ],
   "source": [
    "#新建集合\n",
    "a = {1,2,3,4,5,6}\n",
    "print(type(a))\n",
    "print(a)\n"
   ]
  },
  {
   "cell_type": "markdown",
   "metadata": {},
   "source": [
    "需要注意的是创建空集合必须使用`set()`\n",
    "不能使用`{}` 这时候创建的是空字典"
   ]
  },
  {
   "cell_type": "code",
   "execution_count": 8,
   "metadata": {},
   "outputs": [
    {
     "name": "stdout",
     "output_type": "stream",
     "text": [
      "set()\n"
     ]
    },
    {
     "data": {
      "text/plain": [
       "dict"
      ]
     },
     "execution_count": 8,
     "metadata": {},
     "output_type": "execute_result"
    }
   ],
   "source": [
    "#注意的是创建空集合必须使用`set()`\n",
    "kong = set()\n",
    "dic_kong = {}\n",
    "print(kong)\n",
    "type(kong)\n",
    "type(dic_kong)"
   ]
  },
  {
   "cell_type": "markdown",
   "metadata": {},
   "source": [
    "#### 添加和删除操作\n",
    "- `add(element)`：向集合中添加一个元素\n",
    "- `remove(element)`：从集合中删除一个元素，如果元素不存在则引发错误。\n",
    "- `discard(element)`：从集合中删除一个元素，如果元素不存在则不引发错误。\n",
    "- `union(other_set)`：返回两个集合的并集。\n",
    "- `intersection(other_set)`：返回两个集合的交集。\n",
    "- `difference(other_set)`：返回两个集合的差集。\n",
    "- `symmetric_difference(other_set)`：返回两个集合的对称差集。"
   ]
  },
  {
   "cell_type": "code",
   "execution_count": 12,
   "metadata": {},
   "outputs": [
    {
     "name": "stdout",
     "output_type": "stream",
     "text": [
      "原始值: {1, 2, 3, 4, 5}\n",
      "添加操作后: {1, 2, 3, 4, 5, 9}\n"
     ]
    }
   ],
   "source": [
    "ss1 = {1,2,3,4,5}\n",
    "print(\"原始值:\",end=\" \")\n",
    "print(ss1)\n",
    "#添加操作\n",
    "ss1.add(9)\n",
    "print(\"添加操作后:\",end=\" \")\n",
    "print(ss1)"
   ]
  },
  {
   "cell_type": "markdown",
   "metadata": {},
   "source": [
    "使用remove：\n",
    " 删除元素，如果元素不存在则会引发 KeyError 错误。"
   ]
  },
  {
   "cell_type": "code",
   "execution_count": 14,
   "metadata": {},
   "outputs": [
    {
     "name": "stdout",
     "output_type": "stream",
     "text": [
      "原始值: {1, 2, 3, 4, 5}\n",
      "删除操作后: {1, 2, 4, 5}\n"
     ]
    }
   ],
   "source": [
    "#删除操作\n",
    "ss1 = {1,2,3,4,5}\n",
    "print(\"原始值:\",end=\" \")\n",
    "print(ss1)\n",
    "ss1.remove(3)\n",
    "print(\"删除操作后:\",end=\" \")\n",
    "print(ss1)"
   ]
  },
  {
   "cell_type": "markdown",
   "metadata": {},
   "source": [
    "使用discard\n",
    "删除元素，如果元素不存在则不会引发错误。"
   ]
  },
  {
   "cell_type": "code",
   "execution_count": 15,
   "metadata": {},
   "outputs": [
    {
     "name": "stdout",
     "output_type": "stream",
     "text": [
      "原始值: {1, 2, 3, 4, 5}\n",
      "删除操作后: {1, 2, 4, 5}\n"
     ]
    }
   ],
   "source": [
    "#删除操作\n",
    "ss1 = {1,2,3,4,5}\n",
    "print(\"原始值:\",end=\" \")\n",
    "print(ss1)\n",
    "ss1.discard(3)\n",
    "print(\"删除操作后:\",end=\" \")\n",
    "print(ss1)"
   ]
  },
  {
   "cell_type": "markdown",
   "metadata": {},
   "source": [
    "一些常见操作示例"
   ]
  },
  {
   "cell_type": "markdown",
   "metadata": {},
   "source": [
    "访问元素实现遍历操作："
   ]
  },
  {
   "cell_type": "code",
   "execution_count": 4,
   "metadata": {},
   "outputs": [
    {
     "name": "stdout",
     "output_type": "stream",
     "text": [
      "集合中第1个元素是 1\n",
      "集合中第2个元素是 3\n",
      "集合中第3个元素是 5\n",
      "集合中第4个元素是 6\n",
      "集合中第5个元素是 8\n",
      "集合中第6个元素是 9\n"
     ]
    }
   ],
   "source": [
    "se = {1,5,6,8,9,3}\n",
    "#访问集合\n",
    "l = 1\n",
    "for i in se:\n",
    "    print(\"集合中第{}个元素是\".format(l),end=\" \")\n",
    "    l+=1\n",
    "    print(i)"
   ]
  },
  {
   "cell_type": "markdown",
   "metadata": {},
   "source": [
    "判断一个元素是否在集合之中："
   ]
  },
  {
   "cell_type": "code",
   "execution_count": 5,
   "metadata": {},
   "outputs": [
    {
     "name": "stdout",
     "output_type": "stream",
     "text": [
      "banana在集合之中\n",
      "watermelon不在集合之中\n"
     ]
    }
   ],
   "source": [
    "se1 = {\"apple\",\"banana\",\"pear\",\"orange\"}\n",
    "if \"banana\" in se1:\n",
    "    print(\"banana在集合之中\")\n",
    "else:\n",
    "    print(\"banana不在集合之中\")\n",
    "\n",
    "if \"watermelon\" in se1:\n",
    "    print(\"watermelon在集合之中\")\n",
    "else:\n",
    "    print(\"watermelon不在集合之中\")"
   ]
  },
  {
   "cell_type": "markdown",
   "metadata": {},
   "source": [
    "计算集合中元素数目"
   ]
  },
  {
   "cell_type": "code",
   "execution_count": 7,
   "metadata": {},
   "outputs": [
    {
     "name": "stdout",
     "output_type": "stream",
     "text": [
      "se2集合中元素数量为： 4\n"
     ]
    }
   ],
   "source": [
    "se2 = {\"apple\",\"banana\",\"pear\",\"orange\"}\n",
    "print(\"se2集合中元素数量为：\",end=\" \")\n",
    "print(len(se2))"
   ]
  },
  {
   "cell_type": "markdown",
   "metadata": {},
   "source": [
    "去重操作:\n",
    "对于列表元素我们的思路是：现将列表转为集合，再将集合转为列表"
   ]
  },
  {
   "cell_type": "code",
   "execution_count": 9,
   "metadata": {},
   "outputs": [
    {
     "name": "stdout",
     "output_type": "stream",
     "text": [
      "原始列表: [1, 1, 2, 2, 3, 3, 4, 4, 5, 5]\n",
      "去重后的列表: [1, 2, 3, 4, 5]\n"
     ]
    }
   ],
   "source": [
    "b = [1, 1, 2, 2, 3, 3, 4, 4, 5, 5]\n",
    "print(\"原始列表:\", b)\n",
    "\n",
    "# 将列表转换为集合以去重\n",
    "b_set = set(b)\n",
    "\n",
    "# 将集合转换回列表\n",
    "b = list(b_set)\n",
    "print(\"去重后的列表:\", b)\n"
   ]
  }
 ],
 "metadata": {
  "kernelspec": {
   "display_name": "Python 3",
   "language": "python",
   "name": "python3"
  },
  "language_info": {
   "codemirror_mode": {
    "name": "ipython",
    "version": 3
   },
   "file_extension": ".py",
   "mimetype": "text/x-python",
   "name": "python",
   "nbconvert_exporter": "python",
   "pygments_lexer": "ipython3",
   "version": "3.11.4"
  }
 },
 "nbformat": 4,
 "nbformat_minor": 2
}
