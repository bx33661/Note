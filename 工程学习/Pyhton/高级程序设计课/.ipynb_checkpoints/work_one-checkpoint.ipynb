{
 "cells": [
  {
   "cell_type": "markdown",
   "metadata": {},
   "source": [
    "习题二："
   ]
  },
  {
   "cell_type": "markdown",
   "metadata": {},
   "source": [
    "以下是对判断题的回答：\n",
    "11. **错误**。在程序开发周期中，第一步通常是需求分析，即确定要解决的问题和所需的输出，而不是如何处理输入。\n",
    "12. **正确**。一般来说，伪代码比流程图更紧凑，因为它不需要绘制图形，而是使用简洁的文本描述。\n",
    "13. **错误**。一个算法必须有输出，即使输出是“无”或“空”。\n",
    "14. **正确**。一个算法可以没有输入，例如某些初始化算法或常量计算。\n",
    "15. **错误**。对于同一个算法，输入和输出通常是一一对应的，即相同的输入应该产生相同的输出。\n",
    "16. **正确**。解决同一个问题的不同算法虽然结果相同，但可能使用的资源（如时间、空间）不同，需要根据实际情况选择合适的算法。\n",
    "17. **错误**。画流程图并不一定非常耗时，而且流程图可以很容易地更新，只要使用适当的工具。\n",
    "18. **错误**。在设计一个算法时，不仅要能解决问题，还需要考虑效率、可读性、可维护性等因素。\n",
    "19. **错误**。缩进在Python中有重要意义，它用于表示代码块的层次结构，写程序时必须正确使用缩进。\n",
    "20. **错误**。画流程图时，不应该无限地使用流程线，流程图应该保持清晰和简洁，避免过度复杂化。\n",
    "21. **错误**。流程图循环结构中的直到型结构是先执行某些操作，再判断条件是否成立。"
   ]
  },
  {
   "cell_type": "markdown",
   "metadata": {},
   "source": [
    "以下是对简答题的回答：\n",
    "\n",
    "22. **算法有哪些特征?**\n",
    "   - 有穷性（Finiteness）：算法必须在有限步骤内完成。\n",
    "   - 确定性（Definiteness）：算法的每一步都必须有明确的定义。\n",
    "   - 输入（Input）：算法可以有零个或多个输入。\n",
    "   - 输出（Output）：算法必须有一个或多个输出。\n",
    "   - 可行性（Effectiveness）：算法的每一步都必须是可行的。\n",
    "\n",
    "23. **一般用哪些指标评价一个算法?**\n",
    "   - 时间复杂度（Time Complexity）：算法执行所需的时间。\n",
    "   - 空间复杂度（Space Complexity）：算法执行所需的内存空间。\n",
    "   - 正确性（Correctness）：算法是否能正确解决问题。\n",
    "   - 可读性（Readability）：算法的代码是否易于理解和维护。\n",
    "   - 可扩展性（Scalability）：算法是否能处理更大规模的问题。\n",
    "\n",
    "24. **算法的表示方法有哪些?**\n",
    "   - 伪代码（Pseudocode）：结合自然语言和编程语言的描述方式。\n",
    "   - 流程图（Flowchart）：使用图形符号表示算法的步骤和逻辑。\n",
    "   - 自然语言（Natural Language）：用人类语言描述算法。\n",
    "   - 编程语言（Programming Language）：用具体的编程语言实现算法。\n",
    "\n",
    "25. **流程图有哪几种结构?**\n",
    "   - 顺序结构（Sequence Structure）：按顺序执行一系列操作。\n",
    "   - 选择结构（Selection Structure）：根据条件选择执行不同的操作。\n",
    "   - 循环结构（Loop Structure）：重复执行某些操作，直到满足条件。\n",
    "\n",
    "26. **N-S 图有哪几种结构?**\n",
    "   - 顺序结构（Sequence Structure）：按顺序执行一系列操作。\n",
    "   - 选择结构（Selection Structure）：根据条件选择执行不同的操作。\n",
    "   - 循环结构（Loop Structure）：重复执行某些操作，直到满足条件。\n",
    "\n",
    "27. **简述自顶向下的程序设计思想。**\n",
    "   自顶向下的程序设计思想是从整体到局部的设计方法。首先定义整个程序的主要功能和结构，然后逐步细化每个部分，直到每个细节都被详细定义和实现。这种方法有助于将复杂问题分解为更小、更易管理的部分。\n",
    "\n",
    "28. **程序开发周期中的核心步骤是什么?**\n",
    "   - 需求分析（Requirement Analysis）：确定程序需要解决的问题和所需的输出。\n",
    "   - 设计（Design）：设计程序的结构和算法。\n",
    "   - 编码（Coding）：用编程语言实现设计。\n",
    "   - 测试（Testing）：验证程序的正确性和性能。\n",
    "   - 维护（Maintenance）：修复错误和改进程序。\n",
    "\n",
    "29. **结构化编程过程中尽量使用哪些控制结构?**\n",
    "   - 顺序结构（Sequence Structure）：按顺序执行一系列操作。\n",
    "   - 选择结构（Selection Structure）：根据条件选择执行不同的操作。\n",
    "   - 循环结构（Loop Structure）：重复执行某些操作，直到满足条件。\n",
    "\n",
    "30. **常见的程序错误有哪几种?**\n",
    "   - 语法错误（Syntax Error）：代码不符合编程语言的语法规则。\n",
    "   - 逻辑错误（Logic Error）：程序在逻辑上没有意义或不符合预期的行为。\n",
    "   - 运行错误（Runtime Error）：程序在运行时发生的错误，例如除以零、数组越界等。\n",
    "   - 拼写错误（Spelling Error）：变量名、函数名等拼写错误。\n",
    "   - 类型错误（Type Error）：数据类型不匹配导致的错误。"
   ]
  },
  {
   "cell_type": "markdown",
   "metadata": {},
   "source": [
    "#### 题目二：\n",
    "课本P33的例子2-6求4个小球的任意排列组合，算法非常简陋。请设计：从11个小球中任意取4个小球的排列组合，求排列组合的数目。使用内置模块itertools完成这个例子。思考：这个例子可以用并行运算提高执行速度吗"
   ]
  },
  {
   "cell_type": "code",
   "execution_count": 1,
   "metadata": {},
   "outputs": [
    {
     "name": "stdout",
     "output_type": "stream",
     "text": [
      "从11个小球中任意取4个小球的排列组合结果为：\n",
      "组合数: 330\n",
      "排列数：7920\n"
     ]
    }
   ],
   "source": [
    "import itertools\n",
    "\n",
    "nums1 = list(itertools.combinations(range(11),4))\n",
    "#组合数\n",
    "res_zuhe = len(nums1)\n",
    "\n",
    "nums2 = list(itertools.permutations(range(11),4))\n",
    "#排列数\n",
    "res_pailie = len(nums2)\n",
    "print(\"从11个小球中任意取4个小球的排列组合结果为：\\n组合数: {}\\n排列数：{}\".format(res_zuhe,res_pailie))"
   ]
  },
  {
   "cell_type": "markdown",
   "metadata": {},
   "source": [
    "3、第三章习题2中的10、12、22、26、43，完成相关程序设计。可以使用AI辅助编程，要求提供程序注释。"
   ]
  },
  {
   "cell_type": "code",
   "execution_count": null,
   "metadata": {},
   "outputs": [],
   "source": [
    "#10\n",
    "def f(num):\n",
    "    num = int(num)\n",
    "    res = 0\n",
    "    while num>0:\n",
    "        last_num = num%10\n",
    "        res += last_num\n",
    "        num //= 10\n",
    "    return res\n",
    "\n",
    "integer = input(\"Enter an integer between 0 and 1000:\")\n",
    "ress = f(integer)\n",
    "print(\"The sum of all digits in {} is {}\".format(integer,ress))"
   ]
  },
  {
   "cell_type": "code",
   "execution_count": 1,
   "metadata": {},
   "outputs": [
    {
     "name": "stdout",
     "output_type": "stream",
     "text": [
      "1000000000 minutes is approximately 1902 years and 214 days\n"
     ]
    }
   ],
   "source": [
    "#12\n",
    "ONEDAY = 1440\n",
    "\n",
    "\n",
    "def f(time):\n",
    "    days = time // ONEDAY\n",
    "    year = days // 365\n",
    "    day_o = days % 365\n",
    "    return year, day_o\n",
    "\n",
    "\n",
    "t = input(\"Enter the number bewteen 0 and 1000:\")\n",
    "year, day = f(int(t))\n",
    "print(f\"{t} minutes is approximately {year} years and {day} days\")"
   ]
  },
  {
   "cell_type": "code",
   "execution_count": 4,
   "metadata": {},
   "outputs": [
    {
     "name": "stdout",
     "output_type": "stream",
     "text": [
      "The decimal value is 10\n"
     ]
    }
   ],
   "source": [
    "#22\n",
    "#可以直接利用int函数\n",
    "def tran(num):\n",
    "    two_jinzhi = str(num)\n",
    "    ten_jinzhi = int(two_jinzhi, 2)\n",
    "    return ten_jinzhi \n",
    "\n",
    "n = input(\"Enter a briary numbers string: \")\n",
    "res = tran(n)\n",
    "print(f\"The decimal value is {res}\")  \n"
   ]
  },
  {
   "cell_type": "code",
   "execution_count": 6,
   "metadata": {},
   "outputs": [
    {
     "name": "stdout",
     "output_type": "stream",
     "text": [
      "Number of words: 3\n"
     ]
    }
   ],
   "source": [
    "#26\n",
    "def split(strings):\n",
    "    #返回list\n",
    "    word_numbers = strings.split()\n",
    "    return len(word_numbers)\n",
    "\n",
    "str1 = input(\"Enter a sentence: \")\n",
    "res = split(str1)\n",
    "print(f\"Number of words: {res}\")"
   ]
  },
  {
   "cell_type": "code",
   "execution_count": 15,
   "metadata": {},
   "outputs": [
    {
     "name": "stdout",
     "output_type": "stream",
     "text": [
      "The numbers with the most occurrence are 9 3\n"
     ]
    },
    {
     "data": {
      "text/plain": [
       "'\\nfor i in max_keys:\\n    print(f\"The numbers with the most occurrence are {i}\")\\n'"
      ]
     },
     "execution_count": 15,
     "metadata": {},
     "output_type": "execute_result"
    }
   ],
   "source": [
    "#43\n",
    "def split(strings):\n",
    "    #返回list\n",
    "    word_numbers = strings.split()\n",
    "    return word_numbers\n",
    "\n",
    "numbers = input(\"Enter the numbers: \")\n",
    "num_l = split(numbers)\n",
    "dic ={}\n",
    "for i in num_l:\n",
    "    if i in dic:\n",
    "        dic[i]+=1\n",
    "    else:\n",
    "        dic[i]= 1\n",
    "\n",
    "max_value = max(dic.values())\n",
    "max_keys = [key for key, value in dic.items() if value == max_value]\n",
    "res = ' '.join(max_keys)\n",
    "#9 30 3 9 2 3 4\n",
    "print(f\"The numbers with the most occurrence are {res}\")\n",
    "\n",
    "\n",
    "\"\"\"\n",
    "for i in max_keys:\n",
    "    print(f\"The numbers with the most occurrence are {i}\")\n",
    "\"\"\"\n",
    "\n"
   ]
  },
  {
   "cell_type": "markdown",
   "metadata": {},
   "source": [
    "Enter the numbers:\n",
    "The numbers with the most occurrence are 3"
   ]
  }
 ],
 "metadata": {
  "kernelspec": {
   "display_name": "Python 3 (ipykernel)",
   "language": "python",
   "name": "python3"
  },
  "language_info": {
   "codemirror_mode": {
    "name": "ipython",
    "version": 3
   },
   "file_extension": ".py",
   "mimetype": "text/x-python",
   "name": "python",
   "nbconvert_exporter": "python",
   "pygments_lexer": "ipython3",
   "version": "3.11.9"
  }
 },
 "nbformat": 4,
 "nbformat_minor": 2
}
