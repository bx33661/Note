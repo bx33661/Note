{
 "cells": [
  {
   "cell_type": "markdown",
   "metadata": {},
   "source": [
    "### 函数装饰器\n",
    "yiq"
   ]
  },
  {
   "cell_type": "code",
   "execution_count": 2,
   "metadata": {},
   "outputs": [
    {
     "name": "stdout",
     "output_type": "stream",
     "text": [
      "hi, bx\n"
     ]
    }
   ],
   "source": [
    "#一个RUNOOB.COM的例子\n",
    "def hi(name = \"bx\"):\n",
    "    return \"hi, \" + name\n",
    "\n",
    "print(hi())"
   ]
  },
  {
   "cell_type": "code",
   "execution_count": 4,
   "metadata": {},
   "outputs": [
    {
     "name": "stdout",
     "output_type": "stream",
     "text": [
      "hi, bx\n"
     ]
    }
   ],
   "source": [
    "great = hi\n",
    "print(great())"
   ]
  },
  {
   "cell_type": "code",
   "execution_count": 5,
   "metadata": {},
   "outputs": [
    {
     "name": "stdout",
     "output_type": "stream",
     "text": [
      "hi, bx\n"
     ]
    }
   ],
   "source": [
    "del hi\n",
    "print(great())"
   ]
  },
  {
   "cell_type": "markdown",
   "metadata": {},
   "source": [
    "将一个函数作为参数传递给另一个函数"
   ]
  },
  {
   "cell_type": "code",
   "execution_count": 7,
   "metadata": {},
   "outputs": [
    {
     "name": "stdout",
     "output_type": "stream",
     "text": [
      "I am doing some boring work before executing hi()\n",
      "hi yasoob!\n"
     ]
    }
   ],
   "source": [
    "def hi():\n",
    "    return \"hi yasoob!\"\n",
    " \n",
    "def doSomethingBeforeHi(func):\n",
    "    print(\"I am doing some boring work before executing hi()\")\n",
    "    print(func())\n",
    " \n",
    "doSomethingBeforeHi(hi)\n",
    "#outputs:I am doing some boring work before executing hi()\n",
    "#        hi yasoob!"
   ]
  },
  {
   "cell_type": "markdown",
   "metadata": {},
   "source": [
    "开始进入装饰器\n",
    "这正是 python 中装饰器做的事情！它们封装一个函数，并且用这样或者那样的方式来修改它的行为。这里有一个简单的装饰器例子"
   ]
  },
  {
   "cell_type": "code",
   "execution_count": 8,
   "metadata": {},
   "outputs": [
    {
     "name": "stdout",
     "output_type": "stream",
     "text": [
      "I am doing some boring work before executing a_func()\n",
      "I am the function which needs some decoration to remove my foul smell\n",
      "I am doing some boring work after executing a_func()\n"
     ]
    }
   ],
   "source": [
    "def a_new_decorator(a_func):\n",
    " \n",
    "    def wrapTheFunction():\n",
    "        print(\"I am doing some boring work before executing a_func()\")\n",
    " \n",
    "        a_func()\n",
    " \n",
    "        print(\"I am doing some boring work after executing a_func()\")\n",
    " \n",
    "    return wrapTheFunction\n",
    "    \n",
    "@a_new_decorator\n",
    "def a_function_requiring_decoration():\n",
    "    \"\"\"Hey you! Decorate me!\"\"\"\n",
    "    print(\"I am the function which needs some decoration to \"\n",
    "          \"remove my foul smell\")\n",
    " \n",
    "a_function_requiring_decoration()\n",
    "#outputs: I am doing some boring work before executing a_func()\n",
    "#         I am the function which needs some decoration to remove my foul smell\n",
    "#         I am doing some boring work after executing a_func()\n",
    " \n",
    "#the @a_new_decorator is just a short way of saying:\n",
    "a_function_requiring_decoration = a_new_decorator(a_function_requiring_decoration)"
   ]
  }
 ],
 "metadata": {
  "kernelspec": {
   "display_name": "Python 3 (ipykernel)",
   "language": "python",
   "name": "python3"
  },
  "language_info": {
   "codemirror_mode": {
    "name": "ipython",
    "version": 3
   },
   "file_extension": ".py",
   "mimetype": "text/x-python",
   "name": "python",
   "nbconvert_exporter": "python",
   "pygments_lexer": "ipython3",
   "version": "3.11.9"
  }
 },
 "nbformat": 4,
 "nbformat_minor": 2
}
