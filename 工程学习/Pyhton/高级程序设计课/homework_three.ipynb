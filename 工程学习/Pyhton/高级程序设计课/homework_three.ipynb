{
 "cells": [
  {
   "cell_type": "markdown",
   "metadata": {},
   "source": [
    "### 模拟reduce函数"
   ]
  },
  {
   "cell_type": "code",
   "execution_count": 1,
   "metadata": {},
   "outputs": [
    {
     "name": "stdout",
     "output_type": "stream",
     "text": [
      "15\n",
      "120\n",
      "-13\n",
      "0.008333333333333333\n"
     ]
    }
   ],
   "source": [
    "def bx_reduce(func, items):\n",
    "    # 定义内部函数inner\n",
    "    def inner(a, b):\n",
    "        return func(a, b)\n",
    "    # 初始化结果为列表的第一个元素\n",
    "    res = items[0]\n",
    "    # 依次应用func操作，遍历剩余的元素\n",
    "    for i in items[1:]:\n",
    "        res = inner(res, i)\n",
    "    return res\n",
    "\n",
    "# 测试示例\n",
    "demo = [1, 2, 3, 4, 5]\n",
    "print(bx_reduce(lambda x, y: x + y, demo))  \n",
    "print(bx_reduce(lambda x, y: x * y, demo))  \n",
    "print(bx_reduce(lambda x, y: x - y, demo))  \n",
    "print(bx_reduce(lambda x, y: x / y, demo))  \n"
   ]
  },
  {
   "cell_type": "markdown",
   "metadata": {},
   "source": [
    "### 模拟map函数"
   ]
  },
  {
   "cell_type": "code",
   "execution_count": 2,
   "metadata": {},
   "outputs": [
    {
     "name": "stdout",
     "output_type": "stream",
     "text": [
      "[2, 3, 4, 5, 6]\n",
      "[2, 4, 6, 8, 10]\n",
      "[1, 4, 9, 16, 25]\n"
     ]
    }
   ],
   "source": [
    "def bx_map(func, items):\n",
    "    # 定义内部函数inner\n",
    "    def inner(a):\n",
    "        return func(a)\n",
    "    # 创建一个空列表来存储结果\n",
    "    res = []\n",
    "    # 遍历输入列表，应用func到每个元素\n",
    "    for i in items:\n",
    "        res.append(inner(i))\n",
    "    return res\n",
    "\n",
    "# 测试示例\n",
    "demo = [1, 2, 3, 4, 5]\n",
    "print(bx_map(lambda x: x + 1, demo)) \n",
    "print(bx_map(lambda x: x * 2, demo))  \n",
    "print(bx_map(lambda x: x ** 2, demo)) \n"
   ]
  },
  {
   "cell_type": "markdown",
   "metadata": {},
   "source": [
    "### 模拟filter函数"
   ]
  },
  {
   "cell_type": "code",
   "execution_count": 3,
   "metadata": {},
   "outputs": [
    {
     "name": "stdout",
     "output_type": "stream",
     "text": [
      "[2, 4]\n",
      "[1, 3, 5]\n"
     ]
    }
   ],
   "source": [
    "def bx_filter(func, items):\n",
    "    # 定义内部函数inner\n",
    "    def inner(a):\n",
    "        return func(a) \n",
    "    # 创建一个空列表来存储符合条件的元素\n",
    "    res = []\n",
    "    # 遍历输入列表，应用func判断每个元素\n",
    "    for i in items:\n",
    "        if inner(i):  # 如果func返回True，则保留该元素\n",
    "            res.append(i)\n",
    "    return res\n",
    "\n",
    "# 测试示例\n",
    "demo = [1, 2, 3, 4, 5]\n",
    "print(bx_filter(lambda x: x % 2 == 0, demo))  \n",
    "print(bx_filter(lambda x: x % 2 != 0, demo)) "
   ]
  },
  {
   "cell_type": "markdown",
   "metadata": {},
   "source": [
    "### 封装成一个函数\n",
    "就是再引入一个参数，根据操作判断使用哪个流程"
   ]
  },
  {
   "cell_type": "code",
   "execution_count": 4,
   "metadata": {},
   "outputs": [
    {
     "name": "stdout",
     "output_type": "stream",
     "text": [
      "Reduce: 10\n",
      "Map: [2, 4, 6, 8]\n",
      "Filter: [2, 4]\n"
     ]
    }
   ],
   "source": [
    "def bx_operate(func, items, operation):\n",
    "    # 根据operation选择不同的功能\n",
    "    def inner(a, b=None):\n",
    "        if b is None:\n",
    "            return func(a)\n",
    "        return func(a, b)\n",
    "\n",
    "    if operation == 'reduce':\n",
    "        res = items[0]\n",
    "        for i in items[1:]:\n",
    "            res = inner(res, i)\n",
    "        return res\n",
    "\n",
    "    elif operation == 'map':\n",
    "        res = []\n",
    "        for i in items:\n",
    "            res.append(inner(i))\n",
    "        return res\n",
    "\n",
    "    elif operation == 'filter':\n",
    "        res = []\n",
    "        for i in items:\n",
    "            if inner(i):\n",
    "                res.append(i)\n",
    "        return res\n",
    "\n",
    "    else:\n",
    "        raise ValueError(\"Unknown operation: choose 'reduce', 'map', or 'filter'\")\n",
    "\n",
    "# 示例用法\n",
    "nums = [1, 2, 3, 4]\n",
    "\n",
    "# Reduce 操作\n",
    "result_reduce = bx_operate(lambda x, y: x + y, nums, 'reduce')\n",
    "print(\"Reduce:\", result_reduce)  # 输出 10\n",
    "\n",
    "# Map 操作\n",
    "result_map = bx_operate(lambda x: x * 2, nums, 'map')\n",
    "print(\"Map:\", result_map)  # 输出 [2, 4, 6, 8]\n",
    "\n",
    "# Filter 操作\n",
    "result_filter = bx_operate(lambda x: x % 2 == 0, nums, 'filter')\n",
    "print(\"Filter:\", result_filter)  # 输出 [2, 4]"
   ]
  }
 ],
 "metadata": {
  "kernelspec": {
   "display_name": "Python 3",
   "language": "python",
   "name": "python3"
  },
  "language_info": {
   "codemirror_mode": {
    "name": "ipython",
    "version": 3
   },
   "file_extension": ".py",
   "mimetype": "text/x-python",
   "name": "python",
   "nbconvert_exporter": "python",
   "pygments_lexer": "ipython3",
   "version": "3.11.4"
  }
 },
 "nbformat": 4,
 "nbformat_minor": 2
}
