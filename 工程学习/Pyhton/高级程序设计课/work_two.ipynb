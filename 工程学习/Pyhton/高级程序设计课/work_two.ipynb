{
 "cells": [
  {
   "cell_type": "markdown",
   "metadata": {},
   "source": [
    "###  习题4"
   ]
  },
  {
   "cell_type": "markdown",
   "metadata": {},
   "source": [
    "#### T6\n",
    "判断条件表达式的值是True还是False"
   ]
  },
  {
   "cell_type": "code",
   "execution_count": 4,
   "metadata": {},
   "outputs": [
    {
     "name": "stdout",
     "output_type": "stream",
     "text": [
      "False\n"
     ]
    }
   ],
   "source": [
    "b = not(('C'=='C') or ('Small'<'small'))\n",
    "print(b)"
   ]
  },
  {
   "cell_type": "markdown",
   "metadata": {},
   "source": [
    "#### T7\n",
    "判断第7题中两个条件是否等价\n",
    "answer = True"
   ]
  },
  {
   "cell_type": "code",
   "execution_count": null,
   "metadata": {},
   "outputs": [
    {
     "name": "stdout",
     "output_type": "stream",
     "text": [
      "Character: a, first: True, second: True, equal: True\n",
      "Character: b, first: True, second: True, equal: True\n",
      "Character: c, first: True, second: True, equal: True\n",
      "Character: d, first: True, second: True, equal: True\n",
      "Character: e, first: True, second: True, equal: True\n",
      "Character: f, first: True, second: True, equal: True\n",
      "Character: g, first: True, second: True, equal: True\n",
      "Character: h, first: True, second: True, equal: True\n",
      "Character: i, first: True, second: True, equal: True\n",
      "Character: j, first: True, second: True, equal: True\n",
      "Character: k, first: True, second: True, equal: True\n",
      "Character: l, first: True, second: True, equal: True\n",
      "Character: m, first: True, second: True, equal: True\n",
      "Character: n, first: True, second: True, equal: True\n",
      "Character: o, first: True, second: True, equal: True\n",
      "Character: p, first: True, second: True, equal: True\n",
      "Character: q, first: True, second: True, equal: True\n",
      "Character: r, first: True, second: True, equal: True\n",
      "Character: s, first: True, second: True, equal: True\n",
      "Character: t, first: True, second: True, equal: True\n",
      "Character: u, first: True, second: True, equal: True\n",
      "Character: v, first: True, second: True, equal: True\n",
      "Character: w, first: True, second: True, equal: True\n",
      "Character: x, first: True, second: True, equal: True\n",
      "Character: y, first: True, second: True, equal: True\n",
      "Character: z, first: True, second: True, equal: True\n",
      "Character: A, first: False, second: False, equal: True\n",
      "Character: B, first: False, second: False, equal: True\n",
      "Character: C, first: False, second: False, equal: True\n",
      "Character: D, first: False, second: False, equal: True\n",
      "Character: E, first: False, second: False, equal: True\n",
      "Character: F, first: False, second: False, equal: True\n",
      "Character: G, first: False, second: False, equal: True\n",
      "Character: H, first: False, second: False, equal: True\n",
      "Character: I, first: False, second: False, equal: True\n",
      "Character: J, first: False, second: False, equal: True\n",
      "Character: K, first: False, second: False, equal: True\n",
      "Character: L, first: False, second: False, equal: True\n",
      "Character: M, first: False, second: False, equal: True\n",
      "Character: N, first: False, second: False, equal: True\n",
      "Character: O, first: False, second: False, equal: True\n",
      "Character: P, first: False, second: False, equal: True\n",
      "Character: Q, first: False, second: False, equal: True\n",
      "Character: R, first: False, second: False, equal: True\n",
      "Character: S, first: False, second: False, equal: True\n",
      "Character: T, first: False, second: False, equal: True\n",
      "Character: U, first: False, second: False, equal: True\n",
      "Character: V, first: False, second: False, equal: True\n",
      "Character: W, first: False, second: False, equal: True\n",
      "Character: X, first: False, second: False, equal: True\n",
      "Character: Y, first: False, second: False, equal: True\n",
      "Character: Z, first: False, second: False, equal: True\n",
      "Character: 0, first: False, second: False, equal: True\n",
      "Character: 1, first: False, second: False, equal: True\n",
      "Character: 2, first: False, second: False, equal: True\n",
      "Character: 3, first: False, second: False, equal: True\n",
      "Character: 4, first: False, second: False, equal: True\n",
      "Character: 5, first: False, second: False, equal: True\n",
      "Character: 6, first: False, second: False, equal: True\n",
      "Character: 7, first: False, second: False, equal: True\n",
      "Character: 8, first: False, second: False, equal: True\n",
      "Character: 9, first: False, second: False, equal: True\n",
      "Character: !, first: False, second: False, equal: True\n",
      "Character: @, first: False, second: False, equal: True\n",
      "Character: #, first: False, second: False, equal: True\n",
      "Character: $, first: False, second: False, equal: True\n",
      "Character: %, first: False, second: False, equal: True\n",
      "Character: ^, first: False, second: False, equal: True\n",
      "Character: &, first: False, second: False, equal: True\n",
      "Character: *, first: False, second: False, equal: True\n",
      "Character: (, first: False, second: False, equal: True\n",
      "Character: ), first: False, second: False, equal: True\n"
     ]
    }
   ],
   "source": [
    "# 定义字符串\n",
    "test_chars = \"abcdefghijklmnopqrstuvwxyzABCDEFGHIJKLMNOPQRSTUVWXYZ0123456789\"\n",
    "\n",
    "# 遍历\n",
    "for ch in test_chars:\n",
    "    # 判断字符是否在小写字母表中\n",
    "    first = ch in \"abcdefghijklmnopqrstuvwxyz\"\n",
    "    second = 97 <= ord(ch) <= 122\n",
    "    # 打印结果，并比较两个条件是否相等\n",
    "    print(f\"Character: {ch}, first: {first}, second: {second}, equal: {first == second}\")"
   ]
  },
  {
   "cell_type": "markdown",
   "metadata": {},
   "source": [
    "#### T8\n",
    "简化表达式"
   ]
  },
  {
   "cell_type": "code",
   "execution_count": null,
   "metadata": {},
   "outputs": [],
   "source": [
    "(year == 2017) or (year == 2018) or (year == 2019) or (year == 2020)\n",
    "---->\n",
    "(year in [2017, 2018, 2019, 2020])"
   ]
  },
  {
   "cell_type": "markdown",
   "metadata": {},
   "source": [
    "#### T9\n",
    "判断bool"
   ]
  },
  {
   "cell_type": "code",
   "execution_count": 6,
   "metadata": {},
   "outputs": [
    {
     "name": "stdout",
     "output_type": "stream",
     "text": [
      "True\n"
     ]
    }
   ],
   "source": [
    "str1 =\"spam and eggs\"\n",
    "print(str1.endswith(str1[10:len(str1)]))\n"
   ]
  },
  {
   "cell_type": "markdown",
   "metadata": {},
   "source": [
    "####  T10\n",
    "找出代码中的错误，并指出 错误的类型 （语法、运行时或逻辑），并修正代码块"
   ]
  },
  {
   "cell_type": "code",
   "execution_count": null,
   "metadata": {},
   "outputs": [],
   "source": [
    "n=eval(input(\"请输入一个数字：\"))\n",
    "if n = 17:\n",
    "    print(\"平方是\",n*5)\n",
    "print(\"负值是\",-n)"
   ]
  },
  {
   "cell_type": "code",
   "execution_count": 2,
   "metadata": {},
   "outputs": [
    {
     "name": "stdout",
     "output_type": "stream",
     "text": [
      "平方是 289\n",
      "负值是 -17\n"
     ]
    }
   ],
   "source": [
    "n = eval(input(\"请输入一个数字：\"))\n",
    "# 修正了这里的语法错误，将单等号改为双等号\n",
    "if n == 17:\n",
    "# 修正了这里的语法错误，将n*5改为n*n\n",
    "    print(\"平方是\", n * n)\n",
    "print(\"负值是\", -n)"
   ]
  },
  {
   "cell_type": "markdown",
   "metadata": {},
   "source": [
    "### 习题5"
   ]
  },
  {
   "cell_type": "markdown",
   "metadata": {},
   "source": [
    "#### T22\n",
    "编写一个函数，满足输入一个n，能够计算1+1/2+1/3+...+1/n之和"
   ]
  },
  {
   "cell_type": "code",
   "execution_count": null,
   "metadata": {},
   "outputs": [
    {
     "name": "stdout",
     "output_type": "stream",
     "text": [
      "调和级数 1 + 1/2 + 1/3 + ... + 1/1000 的和是: 7.485470860550343\n"
     ]
    }
   ],
   "source": [
    "def b_sum(n):\n",
    "    # 如果 n 小于等于 0，抛出一个值错误异常\n",
    "    if n <= 0:\n",
    "        raise ValueError(\"n 必须是正整数\")\n",
    "    \n",
    "    # 初始化总和为 0.0\n",
    "    total = 0.0\n",
    "    # 遍历从 1 到 n 的每个整数\n",
    "    for i in range(1, n + 1):\n",
    "        # 将 1/i 加到总和中\n",
    "        total += 1 / i\n",
    "    return total\n",
    "\n",
    "n = 1000\n",
    "# 打印和\n",
    "print(f\"调和级数 1 + 1/2 + 1/3 + ... + 1/{n} 的和是: {b_sum(n)}\")"
   ]
  },
  {
   "cell_type": "markdown",
   "metadata": {},
   "source": [
    "#### T24\n",
    "编写一个函数用于找到一个四位数，这个数乘以4后是这个数的逆序，例如2178*4=8712\n",
    "输出结果：\n",
    "这个四位数是：2178"
   ]
  },
  {
   "cell_type": "code",
   "execution_count": null,
   "metadata": {},
   "outputs": [
    {
     "name": "stdout",
     "output_type": "stream",
     "text": [
      "这个四位数是：2178\n"
     ]
    }
   ],
   "source": [
    "def find_number():\n",
    "    # 遍历所有四位数\n",
    "    for n in range(1000, 10000):\n",
    "        # 计算反转后的数字\n",
    "        reversed_n = int(str(n)[::-1])\n",
    "        # 检查是否满足条件\n",
    "        if n * 4 == reversed_n:\n",
    "            return n\n",
    "    return None\n",
    "\n",
    "# 调用函数并输出结果\n",
    "special_number = find_number()\n",
    "if special_number is not None:\n",
    "    print(f\"这个四位数是：{special_number}\")\n",
    "else:\n",
    "    print(\"没有找到符合条件的四位数\")"
   ]
  },
  {
   "cell_type": "markdown",
   "metadata": {},
   "source": [
    "#### T30\n",
    "编写一个函数，用于显示n*n的矩阵。其中n是用户输入，矩阵中的值为1或0，由于计算机随机产生。矩阵形式如下："
   ]
  },
  {
   "cell_type": "code",
   "execution_count": null,
   "metadata": {},
   "outputs": [
    {
     "name": "stdout",
     "output_type": "stream",
     "text": [
      "6 x 6 的随机矩阵:\n",
      "0 1 1 1 1 0\n",
      "0 0 0 0 1 1\n",
      "0 0 1 1 0 1\n",
      "1 1 1 0 1 1\n",
      "1 1 1 0 0 0\n",
      "1 1 1 0 0 0\n"
     ]
    }
   ],
   "source": [
    "import random\n",
    "\n",
    "def generate_random_matrix(n):\n",
    "    # 验证输入参数\n",
    "    if n <= 0:\n",
    "        raise ValueError(\"n 必须是正整数\")\n",
    "    \n",
    "    # 生成 n x n 的随机 0/1 矩阵\n",
    "    matrix = []\n",
    "    for i in range(n):\n",
    "        row = [random.choice([0, 1]) for _ in range(n)]\n",
    "        matrix.append(row)\n",
    "    return matrix\n",
    "\n",
    "def display_matrix(matrix):\n",
    "    # 按行打印矩阵\n",
    "    for row in matrix:\n",
    "        print(\" \".join(map(str, row)))\n",
    "\n",
    "# 获取用户输入并显示随机矩阵\n",
    "n = int(input(\"请输入矩阵的大小 n: \"))\n",
    "matrix = generate_random_matrix(n)\n",
    "print(f\"{n} x {n} 的随机矩阵:\")\n",
    "display_matrix(matrix)"
   ]
  },
  {
   "cell_type": "code",
   "execution_count": null,
   "metadata": {},
   "outputs": [
    {
     "data": {
      "image/png": "[encoded data removed]",
      "text/plain": [
       "<Figure size 800x500 with 1 Axes>"
      ]
     },
     "metadata": {},
     "output_type": "display_data"
    }
   ],
   "source": [
    "import matplotlib.pyplot as plt\n",
    "\n",
    "# 图表数据\n",
    "game_types = [\"Action Game\", \"Shooting Game\", \"Fighting Game\", \"Adventure Game\", \"Simulation Game\"]\n",
    "percentages = [29.5, 22.5, 17.5, 14.5, 21.0]\n",
    "\n",
    "# 创建柱状图\n",
    "plt.figure(figsize=(8, 5))\n",
    "bars = plt.bar(game_types, percentages, color=['#3498db', '#2ecc71', '#e74c3c', '#9b59b6', '#f1c40f'])\n",
    "\n",
    "# 在柱子顶部添加百分比标签\n",
    "for bar, percentage in zip(bars, percentages):\n",
    "    plt.text(bar.get_x() + bar.get_width() / 2, bar.get_height() + 0.5, f\"{percentage}%\", ha='center', fontsize=10)\n",
    "\n",
    "# 设置标题和标签\n",
    "plt.title(\"青少年最受欢迎的游戏类型\", fontsize=14)\n",
    "plt.xlabel(\"游戏类型\", fontsize=12)\n",
    "plt.ylabel(\"百分比 (%)\", fontsize=12)\n",
    "\n",
    "# 显示网格线\n",
    "plt.grid(axis='y', linestyle='--', alpha=0.7)\n",
    "\n",
    "# 调整布局并显示图表\n",
    "plt.tight_layout()\n",
    "plt.show()"
   ]
  },
  {
   "cell_type": "code",
   "execution_count": 1,
   "metadata": {},
   "outputs": [],
   "source": [
    "import turtle\n",
    "\n",
    "screen = turtle.Screen()\n",
    "screen.title(\"Car Drawing\")\n",
    "screen.bgcolor(\"white\")\n",
    "\n",
    "pen = turtle.Turtle()\n",
    "pen.speed(3)\n",
    "\n",
    "def draw_rectangle(color, x, y, width, height):\n",
    "    pen.penup()\n",
    "    pen.goto(x, y)\n",
    "    pen.pendown()\n",
    "    pen.fillcolor(color)\n",
    "    pen.begin_fill()\n",
    "    for _ in range(2):\n",
    "        pen.forward(width)\n",
    "        pen.left(90)\n",
    "        pen.forward(height)\n",
    "        pen.left(90)\n",
    "    pen.end_fill()\n",
    "\n",
    "def draw_circle(color, x, y, radius):\n",
    "    pen.penup()\n",
    "    pen.goto(x, y - radius)  \n",
    "    pen.pendown()\n",
    "    pen.fillcolor(color)\n",
    "    pen.begin_fill()\n",
    "    pen.circle(radius)\n",
    "    pen.end_fill()\n",
    "\n",
    "draw_rectangle(\"red\", -100, 0, 200, 50)\n",
    "\n",
    "draw_rectangle(\"red\", -70, 50, 140, 50)\n",
    "\n",
    "draw_circle(\"black\", -70, -10, 20)  \n",
    "draw_circle(\"black\", 70, -10, 20)   \n",
    "\n",
    "pen.hideturtle()\n",
    "screen.mainloop()\n"
   ]
  }
 ],
 "metadata": {
  "kernelspec": {
   "display_name": "Python 3",
   "language": "python",
   "name": "python3"
  },
  "language_info": {
   "codemirror_mode": {
    "name": "ipython",
    "version": 3
   },
   "file_extension": ".py",
   "mimetype": "text/x-python",
   "name": "python",
   "nbconvert_exporter": "python",
   "pygments_lexer": "ipython3",
   "version": "3.11.4"
  }
 },
 "nbformat": 4,
 "nbformat_minor": 2
}
