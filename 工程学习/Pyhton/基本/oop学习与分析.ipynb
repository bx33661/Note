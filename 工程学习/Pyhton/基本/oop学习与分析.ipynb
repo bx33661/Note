{
 "cells": [
  {
   "cell_type": "markdown",
   "metadata": {},
   "source": [
    "## 学习Python中的oop\n",
    "- 类\n",
    "- 类的基本操作\n",
    "不添加`__str__`"
   ]
  },
  {
   "cell_type": "code",
   "execution_count": 2,
   "metadata": {},
   "outputs": [
    {
     "name": "stdout",
     "output_type": "stream",
     "text": [
      "<__main__.Person object at 0x000002081F7C30D0>\n"
     ]
    }
   ],
   "source": [
    "class Person:\n",
    "  def __init__(self, name, age):\n",
    "    self.name = name\n",
    "    self.age = age\n",
    "\n",
    "p1 = Person(\"John\", 36)\n",
    "\n",
    "print(p1)"
   ]
  },
  {
   "cell_type": "markdown",
   "metadata": {},
   "source": [
    "添加了`__str__`的运行结果，类似PHP中的Str魔法函数"
   ]
  },
  {
   "cell_type": "code",
   "execution_count": 3,
   "metadata": {},
   "outputs": [
    {
     "name": "stdout",
     "output_type": "stream",
     "text": [
      "John(36)\n"
     ]
    }
   ],
   "source": [
    "class Person:\n",
    "  def __init__(self, name, age):\n",
    "    self.name = name\n",
    "    self.age = age\n",
    "\n",
    "  def __str__(self):\n",
    "    return f\"{self.name}({self.age})\"\n",
    "\n",
    "p1 = Person(\"John\", 36)\n",
    "\n",
    "print(p1)\n"
   ]
  },
  {
   "cell_type": "markdown",
   "metadata": {},
   "source": [
    "添加方法,\n"
   ]
  },
  {
   "cell_type": "code",
   "execution_count": 5,
   "metadata": {},
   "outputs": [
    {
     "name": "stdout",
     "output_type": "stream",
     "text": [
      "This fruit is red apple\n"
     ]
    }
   ],
   "source": [
    "class Fruit:\n",
    "    def __init__(self,name,color) -> None:\n",
    "        self.name = name\n",
    "        self.color = color\n",
    "# 定义一个方法\n",
    "    def show(self):\n",
    "        print(f\"This fruit is {self.color} {self.name}\")\n",
    "\n",
    "# 创建对象\n",
    "apple = Fruit(\"apple\",\"red\")\n",
    "apple.show()"
   ]
  },
  {
   "cell_type": "markdown",
   "metadata": {},
   "source": [
    "`self`参数是对类的当前实例的引用，用于访问属于该类的变量。\n",
    "它不必命名为self ，您可以随意命名它，但它必须是类中任何函数的第一个参数\n",
    "下面是一个例子："
   ]
  },
  {
   "cell_type": "code",
   "execution_count": 10,
   "metadata": {},
   "outputs": [
    {
     "name": "stdout",
     "output_type": "stream",
     "text": [
      "This fruit is red apple\n",
      "I love appleapple\n"
     ]
    }
   ],
   "source": [
    "class Fruit:\n",
    "    def __init__(bx,name,color) -> None:\n",
    "        bx.name = name\n",
    "        bx.color = color\n",
    "# 定义一个方法\n",
    "    def show(self):\n",
    "        print(f\"This fruit is {self.color} {self.name}\")\n",
    "\n",
    "    def myloveonw(abc):\n",
    "        print(f\"I love apple{abc.name}\")\n",
    "\n",
    "# 创建对象\n",
    "apple = Fruit(\"apple\",\"red\")\n",
    "apple.show()\n",
    "apple.myloveonw()"
   ]
  },
  {
   "cell_type": "markdown",
   "metadata": {},
   "source": [
    "一些基础操作"
   ]
  },
  {
   "cell_type": "code",
   "execution_count": 4,
   "metadata": {},
   "outputs": [
    {
     "name": "stdout",
     "output_type": "stream",
     "text": [
      "This fruit is red apple\n",
      "This fruit is green apple\n"
     ]
    },
    {
     "ename": "AttributeError",
     "evalue": "'Fruit' object has no attribute 'color'",
     "output_type": "error",
     "traceback": [
      "\u001b[1;31m---------------------------------------------------------------------------\u001b[0m",
      "\u001b[1;31mAttributeError\u001b[0m                            Traceback (most recent call last)",
      "Cell \u001b[1;32mIn[4], line 19\u001b[0m\n\u001b[0;32m     17\u001b[0m \u001b[38;5;66;03m#删除属性\u001b[39;00m\n\u001b[0;32m     18\u001b[0m \u001b[38;5;28;01mdel\u001b[39;00m apple\u001b[38;5;241m.\u001b[39mcolor\n\u001b[1;32m---> 19\u001b[0m \u001b[43mapple\u001b[49m\u001b[38;5;241;43m.\u001b[39;49m\u001b[43mshow\u001b[49m\u001b[43m(\u001b[49m\u001b[43m)\u001b[49m\n\u001b[0;32m     21\u001b[0m \u001b[38;5;66;03m#删除对象\u001b[39;00m\n\u001b[0;32m     22\u001b[0m \u001b[38;5;66;03m#del apple\u001b[39;00m\n\u001b[0;32m     23\u001b[0m \u001b[38;5;66;03m#apple.show()\u001b[39;00m\n",
      "Cell \u001b[1;32mIn[4], line 7\u001b[0m, in \u001b[0;36mFruit.show\u001b[1;34m(self)\u001b[0m\n\u001b[0;32m      6\u001b[0m \u001b[38;5;28;01mdef\u001b[39;00m \u001b[38;5;21mshow\u001b[39m(\u001b[38;5;28mself\u001b[39m):\n\u001b[1;32m----> 7\u001b[0m     \u001b[38;5;28mprint\u001b[39m(\u001b[38;5;124mf\u001b[39m\u001b[38;5;124m\"\u001b[39m\u001b[38;5;124mThis fruit is \u001b[39m\u001b[38;5;132;01m{\u001b[39;00m\u001b[38;5;28;43mself\u001b[39;49m\u001b[38;5;241;43m.\u001b[39;49m\u001b[43mcolor\u001b[49m\u001b[38;5;132;01m}\u001b[39;00m\u001b[38;5;124m \u001b[39m\u001b[38;5;132;01m{\u001b[39;00m\u001b[38;5;28mself\u001b[39m\u001b[38;5;241m.\u001b[39mname\u001b[38;5;132;01m}\u001b[39;00m\u001b[38;5;124m\"\u001b[39m)\n",
      "\u001b[1;31mAttributeError\u001b[0m: 'Fruit' object has no attribute 'color'"
     ]
    }
   ],
   "source": [
    "class Fruit:\n",
    "    def __init__(self,name,color) -> None:\n",
    "        self.name = name\n",
    "        self.color = color\n",
    "# 定义一个方法\n",
    "    def show(self):\n",
    "        print(f\"This fruit is {self.color} {self.name}\")\n",
    "\n",
    "# 创建对象\n",
    "apple = Fruit(\"apple\",\"red\")\n",
    "apple.show()\n",
    "\n",
    "#修改属性\n",
    "apple.color = \"green\"\n",
    "apple.show()\n",
    "\n",
    "#删除属性\n",
    "del apple.color\n",
    "apple.show()\n",
    "\n",
    "#删除对象\n",
    "#del apple\n",
    "#apple.show()"
   ]
  },
  {
   "cell_type": "markdown",
   "metadata": {},
   "source": [
    "`pass` 声明"
   ]
  },
  {
   "cell_type": "code",
   "execution_count": null,
   "metadata": {},
   "outputs": [],
   "source": [
    "class Fruit:\n",
    "    pass"
   ]
  }
 ],
 "metadata": {
  "kernelspec": {
   "display_name": "Python 3",
   "language": "python",
   "name": "python3"
  },
  "language_info": {
   "codemirror_mode": {
    "name": "ipython",
    "version": 3
   },
   "file_extension": ".py",
   "mimetype": "text/x-python",
   "name": "python",
   "nbconvert_exporter": "python",
   "pygments_lexer": "ipython3",
   "version": "3.11.4"
  }
 },
 "nbformat": 4,
 "nbformat_minor": 2
}
