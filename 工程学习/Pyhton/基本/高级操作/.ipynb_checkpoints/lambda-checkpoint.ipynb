{
 "cells": [
  {
   "cell_type": "markdown",
   "metadata": {},
   "source": [
    "### lamda表达式\n",
    "lambda 参数列表 : 表达式\n",
    "lambda 函数是一个小型匿名函数\n",
    "lambda 函数可以采用任意数量的参数，但只能有一个表达式。"
   ]
  },
  {
   "cell_type": "code",
   "execution_count": 2,
   "metadata": {},
   "outputs": [
    {
     "name": "stdout",
     "output_type": "stream",
     "text": [
      "15\n"
     ]
    }
   ],
   "source": [
    "x = lambda a : a + 10\n",
    "print(x(5))"
   ]
  },
  {
   "cell_type": "code",
   "execution_count": 3,
   "metadata": {},
   "outputs": [
    {
     "name": "stdout",
     "output_type": "stream",
     "text": [
      "30\n"
     ]
    }
   ],
   "source": [
    "y = lambda a, b : a * b\n",
    "print(y(5, 6))"
   ]
  },
  {
   "cell_type": "code",
   "execution_count": 1,
   "metadata": {},
   "outputs": [
    {
     "name": "stdout",
     "output_type": "stream",
     "text": [
      "hello-bx\n"
     ]
    }
   ],
   "source": [
    "s1 = lambda: \"hello-bx\"\n",
    "print(s1())"
   ]
  },
  {
   "cell_type": "markdown",
   "metadata": {},
   "source": [
    "下面举几个例子"
   ]
  },
  {
   "cell_type": "code",
   "execution_count": 2,
   "metadata": {},
   "outputs": [
    {
     "name": "stdout",
     "output_type": "stream",
     "text": [
      "[1, 4, 9, 16, 25, 36, 49, 64, 81]\n"
     ]
    }
   ],
   "source": [
    "#对数组进行平方操作\n",
    "numbers = [1, 2, 3, 4, 5, 6, 7, 8, 9]\n",
    "squares = list(map(lambda x:x*x,numbers))\n",
    "print(squares)"
   ]
  },
  {
   "cell_type": "code",
   "execution_count": 5,
   "metadata": {},
   "outputs": [
    {
     "name": "stdout",
     "output_type": "stream",
     "text": [
      "[2, 4, 6, 8]\n"
     ]
    }
   ],
   "source": [
    "#对数组进行筛选操作\n",
    "even_numbers = list(filter(lambda x: x % 2 == 0, numbers))\n",
    "print(even_numbers)  # 输出: [2, 4]"
   ]
  },
  {
   "cell_type": "markdown",
   "metadata": {},
   "source": [
    "`filter(function, iterable)`\n",
    "- function：一个函数对象，用于定义过滤条件。这个函数接受一个参数，并返回一个布尔值，表示该参数是否符合过滤条件。\n",
    "- iterable：一个可迭代对象，如列表、元组、字符串等。\n",
    "\n",
    "filter() 函数的工作流程如下：\n",
    "- 对可迭代对象中的每个元素调用 function 函数。\n",
    "- 如果 function 函数返回 True，则该元素被包含在返回的迭代器中。\n",
    "- 如果 function 函数返回 False 或 None，则该元素被排除在外。"
   ]
  },
  {
   "cell_type": "code",
   "execution_count": 4,
   "metadata": {},
   "outputs": [
    {
     "name": "stdout",
     "output_type": "stream",
     "text": [
      "[2, 4, 6, 8]\n"
     ]
    }
   ],
   "source": [
    "def is_evennumber(num):\n",
    "    return num%2==0\n",
    "\n",
    "even_numbers = list(filter(is_evennumber, numbers))\n",
    "print(even_numbers)"
   ]
  },
  {
   "cell_type": "markdown",
   "metadata": {},
   "source": [
    "进行简单的排序"
   ]
  },
  {
   "cell_type": "code",
   "execution_count": 7,
   "metadata": {},
   "outputs": [
    {
     "name": "stdout",
     "output_type": "stream",
     "text": [
      "['Bob', 'Toy', 'Alice', 'Tiyong']\n"
     ]
    }
   ],
   "source": [
    "# 使用Lambda函数对列表进行排序\n",
    "names = ['Tiyong', 'Bob', 'Toy', 'Alice']\n",
    "sorted_names = sorted(names, key=lambda x: len(x))\n",
    "print(sorted_names)\n",
    "#最后结果按照字典序排列"
   ]
  }
 ],
 "metadata": {
  "kernelspec": {
   "display_name": "Python 3 (ipykernel)",
   "language": "python",
   "name": "python3"
  },
  "language_info": {
   "codemirror_mode": {
    "name": "ipython",
    "version": 3
   },
   "file_extension": ".py",
   "mimetype": "text/x-python",
   "name": "python",
   "nbconvert_exporter": "python",
   "pygments_lexer": "ipython3",
   "version": "3.11.9"
  }
 },
 "nbformat": 4,
 "nbformat_minor": 2
}
